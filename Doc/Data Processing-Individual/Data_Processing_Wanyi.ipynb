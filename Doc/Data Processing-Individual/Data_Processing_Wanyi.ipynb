{
 "cells": [
  {
   "cell_type": "code",
   "execution_count": null,
   "metadata": {},
   "outputs": [],
   "source": [
    "import pandas as pd\n",
    "import numpy as np"
   ]
  },
  {
   "cell_type": "markdown",
   "metadata": {},
   "source": [
    "### Data Processing"
   ]
  },
  {
   "cell_type": "code",
   "execution_count": null,
   "metadata": {},
   "outputs": [],
   "source": [
    "# Loading Data\n",
    "Raw_Data = pd.read_csv(\"/Users/wanyiellenzheng/Desktop/LIFE/MA/ada/projects/listings.csv\")\n",
    "# Total rows of data\n",
    "print (Raw_Data['id'].count())\n",
    "# Names of all the variables\n",
    "list(Raw_Data)\n",
    "\n",
    "##### Variables BATHROOMS\n",
    "Processed_Data = pd.DataFrame(data = Raw_Data['bathrooms'])\n",
    "# Imputing the missing value by 0\n",
    "Processed_Data['bathrooms'] = Processed_Data['bathrooms'].replace(np.NaN, 0)\n",
    "\n",
    "##### Variables BATHROOMS\n",
    "bedrooms = pd.DataFrame(data = Raw_Data['bedrooms'])\n",
    "# Imputing the missing value by 0\n",
    "bedrooms['bedrooms'] = bedrooms['bedrooms'].replace(np.NaN, 0)\n",
    "# Combine the processed datas\n",
    "Processed_Data = pd.concat([Processed_Data, bedrooms], axis = 1)\n",
    "\n",
    "##### Variables WEEKLY_PRICE\n",
    "weekly_price = pd.DataFrame(data = Raw_Data['weekly_price'])\n",
    "# Imputing the missing value by 0 and existing values by 1\n",
    "weekly_price['weekly_price'] = weekly_price['weekly_price'].replace(np.NaN, 0)\n",
    "weekly_price['weekly_price'][weekly_price['weekly_price'] != 0] = 1 \n",
    "# Combine the processed datas\n",
    "Processed_Data = pd.concat([Processed_Data, weekly_price], axis = 1)\n",
    "\n",
    "##### Variables MONTHLY_PRICE\n",
    "monthly_price = pd.DataFrame(data = Raw_Data['monthly_price'])\n",
    "# Imputing the missing value by 0 and existing values by 1\n",
    "monthly_price['monthly_price'] = monthly_price['monthly_price'].replace(np.NaN, 0)\n",
    "monthly_price['monthly_price'][monthly_price['monthly_price'] != 0] = 1 \n",
    "# Combine the processed datas\n",
    "Processed_Data = pd.concat([Processed_Data, monthly_price], axis = 1)"
   ]
  },
  {
   "cell_type": "markdown",
   "metadata": {},
   "source": [
    "## Details about Variables"
   ]
  },
  {
   "cell_type": "markdown",
   "metadata": {},
   "source": [
    "### Variable: Bathrooms"
   ]
  },
  {
   "cell_type": "code",
   "execution_count": null,
   "metadata": {},
   "outputs": [],
   "source": [
    "Processed_Data = pd.DataFrame(data = Raw_Data['bathrooms'])\n",
    "\n",
    "# number of missing value\n",
    "print(len(Processed_Data.index)-Processed_Data.count())\n",
    "\n",
    "# Imputing the missing value by 0\n",
    "Processed_Data['bathrooms'] = Processed_Data['bathrooms'].replace(np.NaN, 0)\n",
    "\n",
    "# Summary of variable bathroom\n",
    "print(Processed_Data.describe())\n",
    "\n",
    "# Groupby each category \n",
    "print(Processed_Data.groupby('bathrooms')['bathrooms'].count())"
   ]
  },
  {
   "cell_type": "markdown",
   "metadata": {},
   "source": [
    "### Variable: Bedrooms"
   ]
  },
  {
   "cell_type": "code",
   "execution_count": null,
   "metadata": {},
   "outputs": [],
   "source": [
    "bedrooms = pd.DataFrame(data = Raw_Data['bedrooms'])\n",
    "\n",
    "# number of missing value\n",
    "print(len(bedrooms.index)-bedrooms.count())\n",
    "\n",
    "# Imputing the missing value by 0\n",
    "bedrooms['bedrooms'] = bedrooms['bedrooms'].replace(np.NaN, 0)\n",
    "\n",
    "# Summary of variable bathroom\n",
    "print(bedrooms.describe())\n",
    "\n",
    "# Groupby each category\n",
    "print(bedrooms.groupby('bedrooms')['bedrooms'].count())\n",
    "\n",
    "# Combine the processed datas\n",
    "Processed_Data = pd.concat([Processed_Data, bedrooms], axis = 1)"
   ]
  },
  {
   "cell_type": "markdown",
   "metadata": {},
   "source": [
    "### Variable: Weekly_price"
   ]
  },
  {
   "cell_type": "code",
   "execution_count": null,
   "metadata": {},
   "outputs": [],
   "source": [
    "weekly_price = pd.DataFrame(data = Raw_Data['weekly_price'])\n",
    "\n",
    "# number of existing values\n",
    "print(weekly_price.count())\n",
    "# number of missing value\n",
    "print(len(weekly_price.index)-weekly_price.count())\n",
    "\n",
    "# Summary of variable bathroom\n",
    "print(weekly_price.describe())\n",
    "\n",
    "# Imputing the missing value by 0 and existing values by 1\n",
    "weekly_price['weekly_price'] = weekly_price['weekly_price'].replace(np.NaN, 0)\n",
    "weekly_price['weekly_price'][weekly_price['weekly_price'] != 0] = 1 \n",
    "\n",
    "# Groupby each category\n",
    "print(weekly_price.groupby('weekly_price')['weekly_price'].count())\n",
    "\n",
    "# Combine the processed datas\n",
    "Processed_Data = pd.concat([Processed_Data, weekly_price], axis = 1)"
   ]
  },
  {
   "cell_type": "markdown",
   "metadata": {},
   "source": [
    "### Variable: Monthly_price"
   ]
  },
  {
   "cell_type": "code",
   "execution_count": null,
   "metadata": {},
   "outputs": [],
   "source": [
    "monthly_price = pd.DataFrame(data = Raw_Data['monthly_price'])\n",
    "\n",
    "# number of existing values\n",
    "print(monthly_price.count())\n",
    "# number of missing value\n",
    "print(len(monthly_price.index)-monthly_price.count())\n",
    "\n",
    "# Summary of variable bathroom\n",
    "print(monthly_price.describe())\n",
    "\n",
    "# Imputing the missing value by 0 and existing values by 1\n",
    "monthly_price['monthly_price'] = monthly_price['monthly_price'].replace(np.NaN, 0)\n",
    "monthly_price['monthly_price'][monthly_price['monthly_price'] != 0] = 1 \n",
    "\n",
    "# Groupby each category\n",
    "print(monthly_price.groupby('monthly_price')['monthly_price'].count())\n",
    "\n",
    "# Combine the processed datas\n",
    "Processed_Data = pd.concat([Processed_Data, monthly_price], axis = 1)"
   ]
  }
 ],
 "metadata": {
  "kernelspec": {
   "display_name": "Python 3",
   "language": "python",
   "name": "python3"
  },
  "language_info": {
   "codemirror_mode": {
    "name": "ipython",
    "version": 3
   },
   "file_extension": ".py",
   "mimetype": "text/x-python",
   "name": "python",
   "nbconvert_exporter": "python",
   "pygments_lexer": "ipython3",
   "version": "3.6.4"
  }
 },
 "nbformat": 4,
 "nbformat_minor": 2
}
