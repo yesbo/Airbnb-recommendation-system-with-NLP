{
 "cells": [
  {
   "cell_type": "code",
   "execution_count": 1,
   "metadata": {
    "collapsed": true
   },
   "outputs": [],
   "source": [
    "import pandas as pd\n",
    "import numpy as np"
   ]
  },
  {
   "cell_type": "markdown",
   "metadata": {},
   "source": [
    "# Data Processing"
   ]
  },
  {
   "cell_type": "code",
   "execution_count": 2,
   "metadata": {},
   "outputs": [
    {
     "name": "stderr",
     "output_type": "stream",
     "text": [
      "C:\\Users\\Kevin Zhang\\Anaconda3\\lib\\site-packages\\IPython\\core\\interactiveshell.py:2698: DtypeWarning: Columns (43,87,88) have mixed types. Specify dtype option on import or set low_memory=False.\n",
      "  interactivity=interactivity, compiler=compiler, result=result)\n"
     ]
    },
    {
     "name": "stdout",
     "output_type": "stream",
     "text": [
      "Apartment\n",
      "Guest suite\n",
      "House\n",
      "Loft\n",
      "Townhouse\n",
      "Bed and breakfast\n",
      "Condominium\n",
      "Boutique hotel\n",
      "Tiny house\n",
      "Guesthouse\n",
      "Villa\n",
      "Bungalow\n",
      "Serviced apartment\n",
      "Cabin\n",
      "Other\n",
      "Resort\n",
      "Boat\n",
      "Hotel\n",
      "Aparthotel\n",
      "Hostel\n",
      "Cottage\n",
      "Tent\n",
      "Cave\n",
      "Castle\n",
      "Nature lodge\n",
      "Houseboat\n",
      "Train\n",
      "Dome house\n",
      "Barn\n",
      "Timeshare\n",
      "Camper/RV\n",
      "Island\n"
     ]
    },
    {
     "name": "stderr",
     "output_type": "stream",
     "text": [
      "C:\\Users\\Kevin Zhang\\Anaconda3\\lib\\site-packages\\ipykernel_launcher.py:32: SettingWithCopyWarning: \n",
      "A value is trying to be set on a copy of a slice from a DataFrame\n",
      "\n",
      "See the caveats in the documentation: http://pandas.pydata.org/pandas-docs/stable/indexing.html#indexing-view-versus-copy\n",
      "C:\\Users\\Kevin Zhang\\Anaconda3\\lib\\site-packages\\ipykernel_launcher.py:33: SettingWithCopyWarning: \n",
      "A value is trying to be set on a copy of a slice from a DataFrame\n",
      "\n",
      "See the caveats in the documentation: http://pandas.pydata.org/pandas-docs/stable/indexing.html#indexing-view-versus-copy\n"
     ]
    }
   ],
   "source": [
    "# Loading Data\n",
    "Raw_Data = pd.read_csv(\"C:/Users/Kevin Zhang/OneDrive - The City University of New York/Columbia Courses/2018 Fall/GR5291 Advanced Data Analysis/Group Project/Data for ADA/Data/listings.csv\")\n",
    "\n",
    "# Initialing Data Frame and Processing the first variable\n",
    "Processed_Data = pd.DataFrame(data = Raw_Data['host_is_superhost'])\n",
    "# Transforming the host_is_superhost into 0-1\n",
    "Processed_Data['host_is_superhost'][Processed_Data['host_is_superhost'] == 't'] = 1\n",
    "# Imputing the missing value by 0\n",
    "Processed_Data['host_is_superhost'][Processed_Data['host_is_superhost'] != 1] = 0  \n",
    "Processed_Data['host_is_superhost']\n",
    "\n",
    "# Creating property_type_df with all 0\n",
    "property_type_df = pd.DataFrame(0, columns = Raw_Data['property_type'].unique()[:-1], index = range(Processed_Data.shape[0]))\n",
    "# Transforming the host_is_superhost into 0-1\n",
    "for type in property_type_df.columns:\n",
    "    property_type_df[type][Raw_Data['property_type'] == type] = 1\n",
    "# Renaming the column names in property_type_df\n",
    "property_type_df.columns = [\"property_type_\" + str(i) for i in property_type_df.columns]\n",
    "# cbind the processed datas\n",
    "Processed_Data = pd.concat([Processed_Data, property_type_df], axis = 1)   # cbind the processed datas\n",
    "\n",
    "# cbind the availability variables\n",
    "Processed_Data = pd.concat([Processed_Data, Raw_Data['availability_30']], axis = 1)\n",
    "Processed_Data = pd.concat([Processed_Data, Raw_Data['availability_60']], axis = 1)\n",
    "Processed_Data = pd.concat([Processed_Data, Raw_Data['availability_90']], axis = 1)\n",
    "Processed_Data = pd.concat([Processed_Data, Raw_Data['availability_365']], axis = 1)\n",
    "\n",
    "# cbind the require_guest_phone_verification variables\n",
    "Processed_Data = pd.concat([Processed_Data, Raw_Data['require_guest_phone_verification']], axis = 1)\n",
    "# Transforming the host_is_superhost into 0-1\n",
    "Processed_Data['require_guest_phone_verification'][Processed_Data['require_guest_phone_verification'] == 't'] = 1\n",
    "Processed_Data['require_guest_phone_verification'][Processed_Data['require_guest_phone_verification'] == 'f'] = 0\n",
    "Processed_Data.to_csv('Processed_Data.csv', encoding = 'utf-8')"
   ]
  },
  {
   "cell_type": "markdown",
   "metadata": {},
   "source": [
    "# Detail of Data Processing"
   ]
  },
  {
   "cell_type": "markdown",
   "metadata": {},
   "source": [
    "# host_is_superhost"
   ]
  },
  {
   "cell_type": "code",
   "execution_count": null,
   "metadata": {
    "collapsed": true
   },
   "outputs": [],
   "source": [
    "Raw_Data['host_is_superhost'].value_counts()"
   ]
  },
  {
   "cell_type": "code",
   "execution_count": null,
   "metadata": {
    "collapsed": true
   },
   "outputs": [],
   "source": [
    "missing_num_superhost = sum(Raw_Data['host_is_superhost'].isnull())\n",
    "missing_num_superhost"
   ]
  },
  {
   "cell_type": "code",
   "execution_count": null,
   "metadata": {
    "collapsed": true,
    "scrolled": true
   },
   "outputs": [],
   "source": [
    "Processed_Data = pd.DataFrame(data = Raw_Data['host_is_superhost'])"
   ]
  },
  {
   "cell_type": "code",
   "execution_count": null,
   "metadata": {
    "collapsed": true
   },
   "outputs": [],
   "source": [
    "Processed_Data['host_is_superhost'][Processed_Data['host_is_superhost'] == 't'] = 1\n",
    "Processed_Data['host_is_superhost'][Processed_Data['host_is_superhost'] != 1] = 0  # impute the missing value by 0\n",
    "Processed_Data['host_is_superhost']"
   ]
  },
  {
   "cell_type": "markdown",
   "metadata": {},
   "source": [
    "# property_type"
   ]
  },
  {
   "cell_type": "code",
   "execution_count": null,
   "metadata": {
    "collapsed": true
   },
   "outputs": [],
   "source": [
    "missing_num_roomtype = sum(Raw_Data['property_type'].isnull())\n",
    "missing_num_roomtype"
   ]
  },
  {
   "cell_type": "code",
   "execution_count": null,
   "metadata": {
    "collapsed": true
   },
   "outputs": [],
   "source": [
    "property_type_df = pd.DataFrame(0, columns = Raw_Data['property_type'].unique()[:-1], index = range(Processed_Data.shape[0]))"
   ]
  },
  {
   "cell_type": "code",
   "execution_count": null,
   "metadata": {
    "collapsed": true
   },
   "outputs": [],
   "source": [
    "property_type_df.columns  # exclude the last one property type"
   ]
  },
  {
   "cell_type": "code",
   "execution_count": null,
   "metadata": {
    "collapsed": true
   },
   "outputs": [],
   "source": [
    "for type in property_type_df.columns:\n",
    "    print(type)\n",
    "    property_type_df[type][Raw_Data['property_type'] == type] = 1"
   ]
  },
  {
   "cell_type": "code",
   "execution_count": null,
   "metadata": {
    "collapsed": true
   },
   "outputs": [],
   "source": [
    "property_type_df.columns = [\"property_type_\" + str(i) for i in property_type_df.columns]"
   ]
  },
  {
   "cell_type": "code",
   "execution_count": null,
   "metadata": {
    "collapsed": true
   },
   "outputs": [],
   "source": [
    "Processed_Data = pd.concat([Processed_Data, property_type_df], axis = 1)   # cbind the processed datas"
   ]
  },
  {
   "cell_type": "markdown",
   "metadata": {
    "collapsed": true
   },
   "source": [
    "# availability_30"
   ]
  },
  {
   "cell_type": "code",
   "execution_count": null,
   "metadata": {
    "collapsed": true
   },
   "outputs": [],
   "source": [
    "Raw_Data['availability_30'].value_counts()"
   ]
  },
  {
   "cell_type": "code",
   "execution_count": null,
   "metadata": {
    "collapsed": true
   },
   "outputs": [],
   "source": [
    "sum(Raw_Data['availability_30'].isnull())"
   ]
  },
  {
   "cell_type": "code",
   "execution_count": null,
   "metadata": {
    "collapsed": true
   },
   "outputs": [],
   "source": [
    "Processed_Data = pd.concat([Processed_Data, Raw_Data['availability_30']], axis = 1)"
   ]
  },
  {
   "cell_type": "markdown",
   "metadata": {},
   "source": [
    "# availability_60"
   ]
  },
  {
   "cell_type": "code",
   "execution_count": null,
   "metadata": {
    "collapsed": true
   },
   "outputs": [],
   "source": [
    "Raw_Data['availability_60'].value_counts()"
   ]
  },
  {
   "cell_type": "code",
   "execution_count": null,
   "metadata": {
    "collapsed": true
   },
   "outputs": [],
   "source": [
    "sum(Raw_Data['availability_60'].isnull())"
   ]
  },
  {
   "cell_type": "code",
   "execution_count": null,
   "metadata": {
    "collapsed": true
   },
   "outputs": [],
   "source": [
    "Processed_Data = pd.concat([Processed_Data, Raw_Data['availability_60']], axis = 1)"
   ]
  },
  {
   "cell_type": "markdown",
   "metadata": {},
   "source": [
    "# availability_90"
   ]
  },
  {
   "cell_type": "code",
   "execution_count": null,
   "metadata": {
    "collapsed": true
   },
   "outputs": [],
   "source": [
    "Raw_Data['availability_90'].value_counts()"
   ]
  },
  {
   "cell_type": "code",
   "execution_count": null,
   "metadata": {
    "collapsed": true
   },
   "outputs": [],
   "source": [
    "sum(Raw_Data['availability_90'].isnull())"
   ]
  },
  {
   "cell_type": "code",
   "execution_count": null,
   "metadata": {
    "collapsed": true
   },
   "outputs": [],
   "source": [
    "Processed_Data = pd.concat([Processed_Data, Raw_Data['availability_90']], axis = 1)"
   ]
  },
  {
   "cell_type": "markdown",
   "metadata": {},
   "source": [
    "# availability_365"
   ]
  },
  {
   "cell_type": "code",
   "execution_count": null,
   "metadata": {
    "collapsed": true
   },
   "outputs": [],
   "source": [
    "Raw_Data['availability_365'].value_counts()"
   ]
  },
  {
   "cell_type": "code",
   "execution_count": null,
   "metadata": {
    "collapsed": true
   },
   "outputs": [],
   "source": [
    "sum(Raw_Data['availability_365'].isnull())"
   ]
  },
  {
   "cell_type": "code",
   "execution_count": null,
   "metadata": {
    "collapsed": true
   },
   "outputs": [],
   "source": [
    "Processed_Data = pd.concat([Processed_Data, Raw_Data['availability_365']], axis = 1)"
   ]
  },
  {
   "cell_type": "markdown",
   "metadata": {},
   "source": [
    "# require_guest_phone_verification"
   ]
  },
  {
   "cell_type": "code",
   "execution_count": null,
   "metadata": {
    "collapsed": true
   },
   "outputs": [],
   "source": [
    "Raw_Data['require_guest_phone_verification'].value_counts()"
   ]
  },
  {
   "cell_type": "code",
   "execution_count": null,
   "metadata": {
    "collapsed": true
   },
   "outputs": [],
   "source": [
    "sum(Raw_Data['require_guest_phone_verification'].isnull())"
   ]
  },
  {
   "cell_type": "code",
   "execution_count": null,
   "metadata": {
    "collapsed": true
   },
   "outputs": [],
   "source": [
    "Processed_Data = pd.concat([Processed_Data, Raw_Data['require_guest_phone_verification']], axis = 1)\n",
    "Processed_Data['require_guest_phone_verification'][Processed_Data['require_guest_phone_verification'] == 't'] = 1\n",
    "Processed_Data['require_guest_phone_verification'][Processed_Data['require_guest_phone_verification'] == 'f'] = 0"
   ]
  },
  {
   "cell_type": "code",
   "execution_count": null,
   "metadata": {
    "collapsed": true,
    "scrolled": false
   },
   "outputs": [],
   "source": [
    "Processed_Data"
   ]
  }
 ],
 "metadata": {
  "kernelspec": {
   "display_name": "Python 3",
   "language": "python",
   "name": "python3"
  },
  "language_info": {
   "codemirror_mode": {
    "name": "ipython",
    "version": 3
   },
   "file_extension": ".py",
   "mimetype": "text/x-python",
   "name": "python",
   "nbconvert_exporter": "python",
   "pygments_lexer": "ipython3",
   "version": "3.6.3"
  }
 },
 "nbformat": 4,
 "nbformat_minor": 2
}
