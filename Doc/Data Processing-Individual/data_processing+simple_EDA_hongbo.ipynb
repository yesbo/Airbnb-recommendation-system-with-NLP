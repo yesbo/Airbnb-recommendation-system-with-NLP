{
 "cells": [
  {
   "cell_type": "code",
   "execution_count": 68,
   "metadata": {},
   "outputs": [],
   "source": [
    "import pandas as pd\n",
    "import os\n",
    "import numpy as np"
   ]
  },
  {
   "cell_type": "code",
   "execution_count": 115,
   "metadata": {
    "scrolled": false
   },
   "outputs": [
    {
     "name": "stderr",
     "output_type": "stream",
     "text": [
      "/Users/hongbozhu/anaconda3/lib/python3.6/site-packages/IPython/core/interactiveshell.py:2785: DtypeWarning: Columns (43,87,88) have mixed types. Specify dtype option on import or set low_memory=False.\n",
      "  interactivity=interactivity, compiler=compiler, result=result)\n"
     ]
    },
    {
     "data": {
      "text/html": [
       "<div>\n",
       "<table border=\"1\" class=\"dataframe\">\n",
       "  <thead>\n",
       "    <tr style=\"text-align: right;\">\n",
       "      <th></th>\n",
       "      <th>deposit_price_ratio</th>\n",
       "      <th>extra_charge_price_ratio</th>\n",
       "      <th>id</th>\n",
       "      <th>no_smoke</th>\n",
       "    </tr>\n",
       "  </thead>\n",
       "  <tbody>\n",
       "    <tr>\n",
       "      <th>0</th>\n",
       "      <td>0.000000</td>\n",
       "      <td>0.661017</td>\n",
       "      <td>2515</td>\n",
       "      <td>0.0</td>\n",
       "    </tr>\n",
       "    <tr>\n",
       "      <th>1</th>\n",
       "      <td>0.671141</td>\n",
       "      <td>0.167785</td>\n",
       "      <td>2539</td>\n",
       "      <td>0.0</td>\n",
       "    </tr>\n",
       "    <tr>\n",
       "      <th>2</th>\n",
       "      <td>1.555556</td>\n",
       "      <td>0.000000</td>\n",
       "      <td>2595</td>\n",
       "      <td>0.0</td>\n",
       "    </tr>\n",
       "    <tr>\n",
       "      <th>3</th>\n",
       "      <td>2.142857</td>\n",
       "      <td>0.714286</td>\n",
       "      <td>3330</td>\n",
       "      <td>0.0</td>\n",
       "    </tr>\n",
       "    <tr>\n",
       "      <th>4</th>\n",
       "      <td>1.333333</td>\n",
       "      <td>0.133333</td>\n",
       "      <td>3647</td>\n",
       "      <td>0.0</td>\n",
       "    </tr>\n",
       "  </tbody>\n",
       "</table>\n",
       "</div>"
      ],
      "text/plain": [
       "   deposit_price_ratio  extra_charge_price_ratio    id  no_smoke\n",
       "0             0.000000                  0.661017  2515       0.0\n",
       "1             0.671141                  0.167785  2539       0.0\n",
       "2             1.555556                  0.000000  2595       0.0\n",
       "3             2.142857                  0.714286  3330       0.0\n",
       "4             1.333333                  0.133333  3647       0.0"
      ]
     },
     "execution_count": 115,
     "metadata": {},
     "output_type": "execute_result"
    }
   ],
   "source": [
    "os.chdir('/Users/hongbozhu/Desktop/5291 ADA/ADA project')\n",
    "data=pd.read_csv('listings.csv')\n",
    "# a.head()\n",
    "# My variable includes: \n",
    "    # 1. extra_charge/ price ratio\n",
    "    # 2. deposits/ price ratio\n",
    "    # 3. smoke or nat.\n",
    "    \n",
    "# Original data is something like $100.00. convert it to something like 100.00\n",
    "data['price']=data['price'].replace('[\\$,]','',regex=True).astype(float)\n",
    "data['extra_people']=data['extra_people'].replace('[\\$,]','',regex=True).astype(float)\n",
    "data['security_deposit']=data['security_deposit'].replace('[\\$,]','',regex=True).astype(float)\n",
    "\n",
    "#compute the ratios which are first two variables.\n",
    "deposits_price_ratio=data['security_deposit']/data['price']\n",
    "extra_charge_price_ratio=data['extra_people']/data['price']\n",
    "\n",
    "# the column 'house_rules' is with contex. host forbid somkes by words like \" do not smoke\",\n",
    "# \"no_smoke\", 'please don't smoke', 'smoke outside'. As long as \"smoke\" appears, smoke is not allowed.\n",
    "no_smoke=pd.to_numeric(data['house_rules'].str.contains('smoke'))\n",
    "\n",
    "# combine all columns\n",
    "new_data=pd.DataFrame({'id':data['id'],\n",
    "                       'deposit_price_ratio':deposits_price_ratio,\n",
    "                       'extra_charge_price_ratio':extra_charge_price_ratio,\n",
    "                      'no_smoke':no_smoke})\n",
    "\n",
    "# some rows of price are zero. so the ratio will be infinite. convert them to missing value.\n",
    "new_data[new_data==np.inf]=np.nan\n",
    "new_data.head()"
   ]
  },
  {
   "cell_type": "markdown",
   "metadata": {},
   "source": [
    "Simple EDA"
   ]
  },
  {
   "cell_type": "code",
   "execution_count": 105,
   "metadata": {
    "scrolled": true
   },
   "outputs": [
    {
     "data": {
      "text/plain": [
       "deposit_price_ratio         20063\n",
       "extra_charge_price_ratio       28\n",
       "id                              0\n",
       "no_smoke                    20585\n",
       "dtype: int64"
      ]
     },
     "execution_count": 105,
     "metadata": {},
     "output_type": "execute_result"
    }
   ],
   "source": [
    "# check missing values\n",
    "new_data.isnull().apply(np.sum) # there are a lot of missing value"
   ]
  },
  {
   "cell_type": "code",
   "execution_count": 106,
   "metadata": {},
   "outputs": [
    {
     "data": {
      "text/html": [
       "<div>\n",
       "<table border=\"1\" class=\"dataframe\">\n",
       "  <thead>\n",
       "    <tr style=\"text-align: right;\">\n",
       "      <th></th>\n",
       "      <th>deposit_price_ratio</th>\n",
       "      <th>extra_charge_price_ratio</th>\n",
       "      <th>id</th>\n",
       "      <th>review_scores_rating</th>\n",
       "    </tr>\n",
       "  </thead>\n",
       "  <tbody>\n",
       "    <tr>\n",
       "      <th>deposit_price_ratio</th>\n",
       "      <td>1.000000</td>\n",
       "      <td>0.066427</td>\n",
       "      <td>-0.096822</td>\n",
       "      <td>0.032316</td>\n",
       "    </tr>\n",
       "    <tr>\n",
       "      <th>extra_charge_price_ratio</th>\n",
       "      <td>0.066427</td>\n",
       "      <td>1.000000</td>\n",
       "      <td>-0.004291</td>\n",
       "      <td>0.014509</td>\n",
       "    </tr>\n",
       "    <tr>\n",
       "      <th>id</th>\n",
       "      <td>-0.096822</td>\n",
       "      <td>-0.004291</td>\n",
       "      <td>1.000000</td>\n",
       "      <td>-0.004388</td>\n",
       "    </tr>\n",
       "    <tr>\n",
       "      <th>review_scores_rating</th>\n",
       "      <td>0.032316</td>\n",
       "      <td>0.014509</td>\n",
       "      <td>-0.004388</td>\n",
       "      <td>1.000000</td>\n",
       "    </tr>\n",
       "  </tbody>\n",
       "</table>\n",
       "</div>"
      ],
      "text/plain": [
       "                          deposit_price_ratio  extra_charge_price_ratio  \\\n",
       "deposit_price_ratio                  1.000000                  0.066427   \n",
       "extra_charge_price_ratio             0.066427                  1.000000   \n",
       "id                                  -0.096822                 -0.004291   \n",
       "review_scores_rating                 0.032316                  0.014509   \n",
       "\n",
       "                                id  review_scores_rating  \n",
       "deposit_price_ratio      -0.096822              0.032316  \n",
       "extra_charge_price_ratio -0.004291              0.014509  \n",
       "id                        1.000000             -0.004388  \n",
       "review_scores_rating     -0.004388              1.000000  "
      ]
     },
     "execution_count": 106,
     "metadata": {},
     "output_type": "execute_result"
    }
   ],
   "source": [
    "new_data.join(data['review_scores_rating'],on='id').corr()"
   ]
  },
  {
   "cell_type": "code",
   "execution_count": 116,
   "metadata": {},
   "outputs": [
    {
     "data": {
      "text/plain": [
       "array([[<matplotlib.axes._subplots.AxesSubplot object at 0x23ebc0080>,\n",
       "        <matplotlib.axes._subplots.AxesSubplot object at 0x240744c88>],\n",
       "       [<matplotlib.axes._subplots.AxesSubplot object at 0x25c372fd0>,\n",
       "        <matplotlib.axes._subplots.AxesSubplot object at 0x2472c0438>]],\n",
       "      dtype=object)"
      ]
     },
     "execution_count": 116,
     "metadata": {},
     "output_type": "execute_result"
    },
    {
     "data": {
      "image/png": "[encoded data removed]",
      "text/plain": [
       "<Figure size 432x288 with 4 Axes>"
      ]
     },
     "metadata": {},
     "output_type": "display_data"
    }
   ],
   "source": [
    "import matplotlib.pyplot as plt\n",
    "% matplotlib inline\n",
    "new_data.hist(bins=100)"
   ]
  }
 ],
 "metadata": {
  "kernelspec": {
   "display_name": "Python 3",
   "language": "python",
   "name": "python3"
  },
  "language_info": {
   "codemirror_mode": {
    "name": "ipython",
    "version": 3
   },
   "file_extension": ".py",
   "mimetype": "text/x-python",
   "name": "python",
   "nbconvert_exporter": "python",
   "pygments_lexer": "ipython3",
   "version": "3.6.5"
  }
 },
 "nbformat": 4,
 "nbformat_minor": 2
}
