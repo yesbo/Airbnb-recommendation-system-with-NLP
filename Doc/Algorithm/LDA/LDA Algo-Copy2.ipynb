{
 "cells": [
  {
   "cell_type": "code",
   "execution_count": 4,
   "metadata": {},
   "outputs": [],
   "source": [
    "%matplotlib inline\n",
    "import torch\n",
    "import torch.nn as nn\n",
    "import pandas as pd\n",
    "import numpy as np\n",
    "import os\n",
    "import matplotlib\n",
    "import time\n",
    "import sklearn.model_selection\n",
    "from sklearn.feature_extraction.text import CountVectorizer\n",
    "from sklearn.decomposition import LatentDirichletAllocation\n",
    "import time\n",
    "# from sklearn.model_selection import train_test_splite\n",
    "# from sklearn"
   ]
  },
  {
   "cell_type": "markdown",
   "metadata": {},
   "source": [
    "Read Data"
   ]
  },
  {
   "cell_type": "code",
   "execution_count": 8,
   "metadata": {},
   "outputs": [],
   "source": [
    "reviews=pd.read_csv('./reviews.csv')\n",
    "all_list_ids=reviews['listing_id'].unique()\n",
    "documents=[]\n",
    "for id in all_list_ids:\n",
    "    selector=reviews.listing_id==id\n",
    "    docs_per_house=reviews.loc[selector,'comments']\n",
    "    doc=''\n",
    "    for i in docs_per_house:\n",
    "        doc+=str(i)\n",
    "    documents.append(doc)"
   ]
  },
  {
   "cell_type": "markdown",
   "metadata": {},
   "source": [
    "NLP preprocessing"
   ]
  },
  {
   "cell_type": "code",
   "execution_count": 10,
   "metadata": {
    "scrolled": true
   },
   "outputs": [],
   "source": [
    "cv=CountVectorizer(max_df=0.8,strip_accents='unicode',\n",
    "                   max_features=1500,\n",
    "                   min_df=0.2,\n",
    "                   stop_words='english')\n",
    "X=cv.fit_transform(documents)"
   ]
  },
  {
   "cell_type": "markdown",
   "metadata": {},
   "source": [
    "Save word_preprocessing model"
   ]
  },
  {
   "cell_type": "code",
   "execution_count": 6,
   "metadata": {},
   "outputs": [],
   "source": [
    "from joblib import dump,load\n",
    "dump(cv,'countVectorize_1500.joblib')\n",
    "# cv=load('countVectorize.joblib')\n",
    "X=cv.transform(documents)"
   ]
  },
  {
   "cell_type": "markdown",
   "metadata": {},
   "source": [
    "Run LDA"
   ]
  },
  {
   "cell_type": "code",
   "execution_count": 11,
   "metadata": {},
   "outputs": [
    {
     "name": "stdout",
     "output_type": "stream",
     "text": [
      "trainning time:  2692.75382995\n",
      "Topic #0: subway, metro, close, station, la, nyc, es, muy, downtown, safe\n",
      "Topic #1: subway, away, restaurants, blocks, grocery, stores, safe, neighborhood, need, just\n",
      "Topic #2: room, clean, nice, comfortable, bed, friendly, recommend, really, host, location\n",
      "Topic #3: apartment, helpful, places, gave, really, subway, home, tips, local, area\n",
      "Topic #4: brooklyn, subway, manhattan, neighborhood, park, easy, beautiful, lines, walking, walk\n",
      "Topic #5: apartment, new, small, location, york, perfect, flat, subway, good, little\n",
      "Topic #6: clean, parking, nice, definitely, space, comfortable, neighborhood, easy, needed, host\n",
      "Topic #7: subway, station, train, right, close, away, manhattan, just, block, convenient\n",
      "Topic #8: hosts, friendly, people, recommend, highly, welcoming, accommodating, super, kind, helpful\n",
      "Topic #9: check, late, night, accommodating, early, flexible, host, arrived, time, let\n",
      "Topic #10: location, apartment, perfect, easy, host, check, nyc, clean, definitely, recommend\n",
      "Topic #11: apartment, time, meet, host, didn, experience, clean, easy, sure, needed\n",
      "Topic #12: house, home, kitchen, floor, perfect, recommend, beautiful, stayed, people, neighborhood\n",
      "Topic #13: bus, stop, public, transportation, clean, quiet, right, nice, long, far\n",
      "Topic #14: host, recommend, friendly, amazing, highly, super, helpful, accommodating, kind, sure\n",
      "Topic #15: restaurants, bars, location, shops, area, neighborhood, lots, close, walking, apartment\n",
      "Topic #16: room, good, bathroom, night, clean, just, small, like, price, location\n",
      "Topic #17: et, tres, est, appartement, bien, pour, le, metro, la, apartment\n",
      "Topic #18: nice, good, really, host, friendly, helpful, location, neighborhood, kind, price\n",
      "Topic #19: noise, street, night, right, little, light, bit, outside, sleep, didn\n",
      "Topic #20: home, feel, like, felt, comfortable, welcoming, warm, wonderful, lovely, welcome\n",
      "Topic #21: quiet, apartment, restaurants, neighborhood, location, comfortable, host, wonderful, close, nice\n",
      "Topic #22: apartment, building, bedroom, floor, good, location, bed, living, nice, apt\n",
      "Topic #23: walk, 10, minutes, min, manhattan, 15, subway, station, minute, quiet\n",
      "Topic #24: water, coffee, provided, towels, tv, clean, shower, comfortable, needed, need\n",
      "Topic #25: beautiful, amazing, space, home, wonderful, lovely, loved, decorated, perfect, just\n",
      "Topic #26: square, times, location, time, close, central, walk, restaurants, kitchen, walking\n",
      "Topic #27: apartment, clean, recommend, new, comfortable, really, spacious, nice, definitely, york\n",
      "Topic #28: clean, close, easy, nice, subway, good, check, host, location, recommend\n",
      "Topic #29: la, el, muy, en, es, que, se, bien, metro, super\n",
      "Topic #30: family, friends, people, worked, needs, visiting, plenty, small, came, reservation\n",
      "Topic #31: park, central, location, subway, close, blocks, walk, right, block, near\n",
      "Topic #32: new, york, time, city, nyc, experience, best, really, airbnb, like\n",
      "Topic #33: bed, super, cozy, cute, comfortable, space, little, comfy, perfect, really\n",
      "Topic #34: private, bathroom, bedroom, shower, having, plus, access, use, floor, door\n",
      "Topic #35: reservation, canceled, arrival, posting, automated, host, days, day, 10, 15\n",
      "Topic #36: et, la, est, le, tres, pour, en, que, bien, appartement\n",
      "Topic #37: spacious, space, room, large, living, kitchen, big, bedroom, plenty, lots\n",
      "Topic #38: brooklyn, really, manhattan, easy, super, cool, train, close, recommend, space\n",
      "Topic #39: manhattan, en, minutes, metro, kitchen, es, met, min, 20, nice\n"
     ]
    },
    {
     "ename": "NameError",
     "evalue": "name 'dump' is not defined",
     "output_type": "error",
     "traceback": [
      "\u001b[0;31m---------------------------------------------------------------------------\u001b[0m",
      "\u001b[0;31mNameError\u001b[0m                                 Traceback (most recent call last)",
      "\u001b[0;32m<ipython-input-11-d16803e20028>\u001b[0m in \u001b[0;36m<module>\u001b[0;34m()\u001b[0m\n\u001b[1;32m     16\u001b[0m \u001b[0mtf_feature_names\u001b[0m \u001b[0;34m=\u001b[0m \u001b[0mcv\u001b[0m\u001b[0;34m.\u001b[0m\u001b[0mget_feature_names\u001b[0m\u001b[0;34m(\u001b[0m\u001b[0;34m)\u001b[0m\u001b[0;34m\u001b[0m\u001b[0m\n\u001b[1;32m     17\u001b[0m \u001b[0mprint_top_words\u001b[0m\u001b[0;34m(\u001b[0m\u001b[0mlda\u001b[0m\u001b[0;34m,\u001b[0m \u001b[0mtf_feature_names\u001b[0m\u001b[0;34m,\u001b[0m \u001b[0;36m10\u001b[0m\u001b[0;34m)\u001b[0m\u001b[0;34m\u001b[0m\u001b[0m\n\u001b[0;32m---> 18\u001b[0;31m \u001b[0mdump\u001b[0m\u001b[0;34m(\u001b[0m\u001b[0mlda\u001b[0m\u001b[0;34m,\u001b[0m\u001b[0;34m'lda_40topic.joblib'\u001b[0m\u001b[0;34m)\u001b[0m\u001b[0;34m\u001b[0m\u001b[0m\n\u001b[0m",
      "\u001b[0;31mNameError\u001b[0m: name 'dump' is not defined"
     ]
    }
   ],
   "source": [
    "lda = LatentDirichletAllocation(n_components=40, max_iter=200,\n",
    "                                n_jobs=-1,\n",
    "                                learning_method='batch',\n",
    "#                                 learning_offset=50.,\n",
    "                                random_state=0)\n",
    "\n",
    "start=time.time()\n",
    "lda.fit(X)\n",
    "print('trainning time: ', str(time.time()-start)[:-5])\n",
    "def print_top_words(model, feature_names, n_top_words):\n",
    "    for topic_idx, topic in enumerate(model.components_):\n",
    "        message = \"Topic #%d: \" % topic_idx\n",
    "        message += \", \".join([feature_names[i]\n",
    "                             for i in topic.argsort()[:-n_top_words - 1:-1]])\n",
    "        print(message)\n",
    "tf_feature_names = cv.get_feature_names()\n",
    "print_top_words(lda, tf_feature_names, 10)\n",
    "dump(lda,'lda_40topic.joblib')"
   ]
  },
  {
   "cell_type": "code",
   "execution_count": 32,
   "metadata": {},
   "outputs": [],
   "source": [
    "# import lda\n",
    "# model = lda.LDA(n_topics=20, n_iter=1500, random_state=1)\n",
    "# model.fit(X)  # model.fit_transform(X) is also available\n",
    "# topic_word = model.topic_word_  # model.components_ also works\n",
    "# n_top_words = 8\n",
    "# tf_feature_names = cv.get_feature_names()\n",
    "# # print_top_words(lda, tf_feature_names, 10)\n",
    "# for i, topic_dist in enumerate(topic_word):\n",
    "#     topic_words = np.array(tf_feature_names)[np.argsort(topic_dist)][:-(n_top_words+1):-1]\n",
    "#     print('Topic {}: {}'.format(i, ', '.join(topic_words)))\n",
    "# doc_topic = model.doc_topic_\n",
    "# for i in range(10):\n",
    "#      print(\"{} (top topic: {})\".format( doc_topic[i]))"
   ]
  },
  {
   "cell_type": "code",
   "execution_count": 11,
   "metadata": {},
   "outputs": [
    {
     "data": {
      "text/plain": [
       "(40, 1500)"
      ]
     },
     "execution_count": 11,
     "metadata": {},
     "output_type": "execute_result"
    }
   ],
   "source": [
    "lda.components_.shape"
   ]
  },
  {
   "cell_type": "code",
   "execution_count": 12,
   "metadata": {},
   "outputs": [],
   "source": [
    "topic_word_distribution=lda.components_ / lda.components_.sum(axis=1)[:, np.newaxis]\n",
    "word_topic_distribution=(topic_word_distribution/topic_word_distribution.sum(axis=0)).T\n",
    "host_topic_distribution=lda.transform(X)\n",
    "topic_host_distribution=(host_topic_distribution/host_topic_distribution.sum(axis=0)).T\n",
    "word_host_distribution=word_topic_distribution.dot(topic_host_distribution)"
   ]
  },
  {
   "cell_type": "code",
   "execution_count": 39,
   "metadata": {},
   "outputs": [
    {
     "data": {
      "text/plain": [
       "array([26242, 24497,  2549, ..., 27276, 33518, 35288])"
      ]
     },
     "execution_count": 39,
     "metadata": {},
     "output_type": "execute_result"
    }
   ],
   "source": [
    "k=tf_feature_names.index('clean')\n",
    "i=word_host_distribution[k].argsort()\n",
    "i"
   ]
  },
  {
   "cell_type": "code",
   "execution_count": 1,
   "metadata": {},
   "outputs": [
    {
     "ename": "NameError",
     "evalue": "name 'all_list_ids' is not defined",
     "output_type": "error",
     "traceback": [
      "\u001b[0;31m---------------------------------------------------------------------------\u001b[0m",
      "\u001b[0;31mNameError\u001b[0m                                 Traceback (most recent call last)",
      "\u001b[0;32m<ipython-input-1-f5826864ed6d>\u001b[0m in \u001b[0;36m<module>\u001b[0;34m()\u001b[0m\n\u001b[0;32m----> 1\u001b[0;31m \u001b[0mall_list_ids\u001b[0m\u001b[0;34m\u001b[0m\u001b[0m\n\u001b[0m",
      "\u001b[0;31mNameError\u001b[0m: name 'all_list_ids' is not defined"
     ]
    }
   ],
   "source": [
    "all_list_ids"
   ]
  },
  {
   "cell_type": "code",
   "execution_count": null,
   "metadata": {},
   "outputs": [],
   "source": []
  },
  {
   "cell_type": "code",
   "execution_count": 40,
   "metadata": {
    "scrolled": true
   },
   "outputs": [
    {
     "name": "stdout",
     "output_type": "stream",
     "text": [
      "35763\n",
      "Great room, updated kitchen, very clean and perfect spot right next to a main subway stop to go all over New York. \n",
      "36762\n",
      "The apartment has a great location right next to public transit. Gisselle is incredibly responsive and organized, and her place is beautiful, clean, and extremely spacious. \n",
      "29503\n",
      "If you’re looking to escape the downtown bustle and have public transportation literally steps from you, this is your place! Michael’s roommates were very considerate of my space and the room itself has everything a single traveler needs- WiFi, phone charger, clean towels and smart TV. Major plus, Michael’s bed was to die for and many convenient stores in the area as well. Just a slight downside for my fellow women, there’s catcalling left and right once you step out of the apartment, but if you keep your earphones handy, you’ll be alright!Michael war sehr hilfsbereit und freundlich. Das Haus ist sehr nah an der Subway und direkt vor dem Haus ist eine Bushaltestelle, mit dem man ebenfalls, Richtung Downtown fahren kann. \n",
      "Das Zimmer an sich war sehr gemütlich und die Mitbewohner (sehr ruhig) waren sehr höflich und hilfsbereit. \n",
      "Ich würde das Zimmer jedem empfehlen. \n",
      "Ich bedanke mich. \n",
      "\n",
      "Gruß \n",
      "Timur und Sirin\n",
      "20162\n",
      "Great place to stay during my rotations at St. John's. Close to A train and the Q22 bus which can take you up to the beach and grocery store. Place was clean and has everything you need. Quiet study space too. Highly recommend!\n",
      "19384\n",
      "If you want to live in the thick of the action in New York, but have a private retreat above the fray, this place is for you. The building is lovely and very clean, as is the apartment itself. It’s thoughtfully planned and we had everything we needed for a full month’s stay, right down to the linens, pots and pans and throw blankets. It’s remarkable how quiet the unit is, but you can experience all the clamor of the city if you step out on the balcony.\n",
      "\n",
      "The view is simply spectacular. I would stay here again in a heartbeat, and it’s well worth the price of admission.\n",
      "26444\n",
      "Good location near public transportation. Irina was great!Irina was a great host and was always available. I had a great time!\n",
      "28078\n",
      "The room gets the job done, public transportation is only a 15 minute away. Place was nice and clean and great communication from the host.\n",
      "28029\n",
      "Carols Place was nice. It was clean and private and host was great. The only thing I Would suggest is letting people know there is a cat on the premises I myself am a cat lady so I ididnt mind but others might. Its alittle far out, but if you want peace and quiet from the crazy city vibe this place is great. Would recommend\n",
      "29202\n",
      "Good location in Bushwick, great to be able to visit Brooklyn. Not central with respect to Manhattan, but public transportation always runs. Make sure to check alternatives if some subways stops are closed for construction (shuttle bus, public bus, other stops)\n",
      "Cozy room and comfortable bed, the apartment is easy to reach and really close to several stops of public transportation\n",
      "34322\n",
      "Not far from public transport, good location for exploring Brooklyn and a really comfy bed for resting your head after a long day.\n",
      "37137\n",
      "Definitely a cheap and affordable place to stay, but I'd expect basic amenities like bathtub to actually drain water properly, and clean bathrooms etc. We were more willing to use the public restroom in NY rather than using the bathroom provided.Out of my years of doing AIRBNB... this one right here was very disturbing.  From the moment you walk into the entry door seeing piles of garbage that stinks to a room not being prepared before you arrive\n",
      "9769\n",
      "L'alloggio di Jessica e' delizioso, grande, pulito e molto curato. Le foto sono assolutamente rispondenti alla realtà'.Eravamo due famiglie con quattro bambini e ci siamo trovati benissimo. La fermata della metro più vicina dista circa 15 minuti a piedi oppure si può prendere un bus nelle vicinanze.\n",
      "33920\n",
      "Great place to stay for cool relaxation and vacation. Not too far to the city.\n",
      "38241\n",
      "Excellent location in Manhattan with just 300 m from M15 bus stop. My recommendation for a sole business traveler \n",
      "11693\n",
      "Cute little place with all the necessities for a comfortable stay. Safe location, even at night. And steps away from public transportation that will lead you anywhere in the city, as well a direct bus to LGA. Overall an awesome stay and a lovely host.\n",
      "13873\n",
      "Taylor is warm and welcoming and so is her place. She offered all the information and help that I could need and I had a nice stay. The place is homey, quiet, and right off Broadway which has so much great food. \n",
      "25491\n",
      "Great space. Very convenient for public transport. Terrific hosts!\n",
      "27276\n",
      "The space was clean and quiet, with working AC. It was conveniently close to Columbia, the market, and public transportation. \n",
      "33518\n",
      "Great place at good price, everything was conveniently accessible in the middle of the City (midtown Manhattan) only cleaning should be more often, otherwise a great place for long stay.위치도 좋고 사람들도 친절하고 은근 조용하구요 진짜 좋아요!! 장기간 숙박 하실분들 여기 지내세요.. 진짜 완전추천 드립니다ㅠㅠㅠㅠ 💙💙 everything was perfect!!!!!!!\n",
      "35288\n",
      "Great experience here. The place was quiet, very clean and hostess made sure I felt right at home. Also close to public transportation. You wont have to go far to find anything you need. \n"
     ]
    }
   ],
   "source": [
    "for j in i[-20:]:\n",
    "    print(j)\n",
    "    print(documents[j])"
   ]
  },
  {
   "cell_type": "code",
   "execution_count": 51,
   "metadata": {},
   "outputs": [],
   "source": [
    "# tf_feature_names"
   ]
  },
  {
   "cell_type": "code",
   "execution_count": 31,
   "metadata": {},
   "outputs": [
    {
     "data": {
      "text/plain": [
       "array([1.29600293e-08, 1.73172118e-08, 2.40217440e-08, ...,\n",
       "       5.59724899e-04, 7.04177139e-04, 7.61958036e-04])"
      ]
     },
     "execution_count": 31,
     "metadata": {},
     "output_type": "execute_result"
    }
   ],
   "source": [
    "word_host_distribution[,i]"
   ]
  },
  {
   "cell_type": "code",
   "execution_count": 59,
   "metadata": {},
   "outputs": [
    {
     "data": {
      "text/plain": [
       "'Tenho que deixar registrado minha imensa satisfação em ter ficado hospedado na casa do Ryan e da Manú. A casa é exatamente como consta nas fotos, contudo a surpresa vem no capricho, cuidado e limpeza que só são possíveis constatar ao vivo. Manú sempre muito prestativa, muito antes da data do check in sempre manteve contato enviando vídeos descrevendo como utilizar os equipamentos da cozinha, peças do banheiro, entre outras coisas. O bairro é super residencial e fica menos de 5 minutos andando da estação de metrô que leva a Manhattam. Muitos mercadinhos por perto, inclusive 24 horas. Só tenho a dizer que vivi momentos mágicos em Nova Iorque, e parte disso devo à Manu e Ryan que proporcionaram conforto e segurança para mim e para o Lucas na nossa viagem. Esperamos retornar em breve hehe!Quando vc viaja p NY uma das coisas mais complicadas é a hospedagem. Ou é caro demais ou não atende os seus requisitos como  privacidade, limpeza, proximidade do metrô, Wi-Fi grátis, hospitalidade do anfitrião, etc... e foi tudo isso e muito mais que nos fez escolher o room da casa da Manu e do Ryan. Melhor custo beneficio p NY.  Obrigado mais uma vez pela hospitalidade e até a próxima.'"
      ]
     },
     "execution_count": 59,
     "metadata": {},
     "output_type": "execute_result"
    }
   ],
   "source": [
    "documents[i[-4]]\n"
   ]
  },
  {
   "cell_type": "code",
   "execution_count": 47,
   "metadata": {},
   "outputs": [
    {
     "data": {
      "text/plain": [
       "array(['For those in love with the vibrancy of the East Village, this is a fantastic apartment. The street itself is quiet at night, while surrounded by quaint shops and great restaurants and bars. \\r\\nMy interactions with Aviad were always first rate.'],\n",
       "      dtype=object)"
      ]
     },
     "execution_count": 47,
     "metadata": {},
     "output_type": "execute_result"
    }
   ],
   "source": [
    "selector=reviews['listing_id']==host_id\n",
    "reviews.ix[selector,'comments'].values\n",
    "# reviews"
   ]
  },
  {
   "cell_type": "code",
   "execution_count": null,
   "metadata": {},
   "outputs": [],
   "source": []
  }
 ],
 "metadata": {
  "kernelspec": {
   "display_name": "Python 3",
   "language": "python",
   "name": "python3"
  },
  "language_info": {
   "codemirror_mode": {
    "name": "ipython",
    "version": 3
   },
   "file_extension": ".py",
   "mimetype": "text/x-python",
   "name": "python",
   "nbconvert_exporter": "python",
   "pygments_lexer": "ipython3",
   "version": "3.6.5"
  }
 },
 "nbformat": 4,
 "nbformat_minor": 2
}
