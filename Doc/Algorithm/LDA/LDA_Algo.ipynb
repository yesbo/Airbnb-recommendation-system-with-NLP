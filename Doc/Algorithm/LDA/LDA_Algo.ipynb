{
 "cells": [
  {
   "cell_type": "code",
   "execution_count": 2,
   "metadata": {
    "slideshow": {
     "slide_type": "skip"
    }
   },
   "outputs": [],
   "source": [
    "%matplotlib inline\n",
    "import torch\n",
    "import torch.nn as nn\n",
    "import pandas as pd\n",
    "import numpy as np\n",
    "import os\n",
    "import matplotlib\n",
    "import time\n",
    "import sklearn.model_selection\n",
    "from sklearn.feature_extraction.text import CountVectorizer\n",
    "from sklearn.decomposition import LatentDirichletAllocation\n",
    "import time\n",
    "# from sklearn.model_selection import train_test_splite\n",
    "# from sklearn"
   ]
  },
  {
   "cell_type": "markdown",
   "metadata": {
    "slideshow": {
     "slide_type": "skip"
    }
   },
   "source": [
    "Read Data"
   ]
  },
  {
   "cell_type": "code",
   "execution_count": 3,
   "metadata": {
    "slideshow": {
     "slide_type": "skip"
    }
   },
   "outputs": [],
   "source": [
    "reviews=pd.read_csv('./reviews.csv')\n",
    "all_list_ids=reviews['listing_id'].unique()\n",
    "documents=[]\n",
    "for id in all_list_ids:\n",
    "    selector=reviews.listing_id==id\n",
    "    docs_per_house=reviews.loc[selector,'comments']\n",
    "    doc=''\n",
    "    for i in docs_per_house:\n",
    "        doc+=str(i)\n",
    "    documents.append(doc)"
   ]
  },
  {
   "cell_type": "markdown",
   "metadata": {
    "slideshow": {
     "slide_type": "skip"
    }
   },
   "source": [
    "NLP preprocessing"
   ]
  },
  {
   "cell_type": "code",
   "execution_count": 40,
   "metadata": {
    "scrolled": true,
    "slideshow": {
     "slide_type": "skip"
    }
   },
   "outputs": [],
   "source": [
    "cv=CountVectorizer(max_df=0.8,strip_accents='unicode',\n",
    "                   max_features=1500,\n",
    "                   min_df=2,\n",
    "                   stop_words='english')\n",
    "X=cv.fit_transform(documents)"
   ]
  },
  {
   "cell_type": "markdown",
   "metadata": {
    "slideshow": {
     "slide_type": "skip"
    }
   },
   "source": [
    "Save word_preprocessing model"
   ]
  },
  {
   "cell_type": "code",
   "execution_count": 6,
   "metadata": {
    "slideshow": {
     "slide_type": "skip"
    }
   },
   "outputs": [],
   "source": [
    "from joblib import dump,load\n",
    "# dump(cv,'countVectorize.joblib')\n",
    "# cv=load('countVectorize.joblib')\n",
    "X=cv.transform(documents)"
   ]
  },
  {
   "cell_type": "markdown",
   "metadata": {
    "slideshow": {
     "slide_type": "skip"
    }
   },
   "source": [
    "Run LDA"
   ]
  },
  {
   "cell_type": "code",
   "execution_count": 11,
   "metadata": {
    "slideshow": {
     "slide_type": "skip"
    }
   },
   "outputs": [],
   "source": [
    "# lda = LatentDirichletAllocation(n_components=40, max_iter=100,\n",
    "#                                 n_jobs=-1,\n",
    "#                                 learning_method='batch',\n",
    "# #                                 learning_offset=50.,\n",
    "#                                 random_state=0)\n",
    "\n",
    "# start=time.time()\n",
    "# lda.fit(X)\n",
    "# print('trainning time: ', str(time.time()-start)[:-5])\n",
    "# def print_top_words(model, feature_names, n_top_words):\n",
    "#     for topic_idx, topic in enumerate(model.components_):\n",
    "#         message = \"Topic #%d: \" % topic_idx\n",
    "#         message += \", \".join([feature_names[i]\n",
    "#                              for i in topic.argsort()[:-n_top_words - 1:-1]])\n",
    "#         print(message)\n",
    "# tf_feature_names = cv.get_feature_names()\n",
    "# print_top_words(lda, tf_feature_names, 100)\n",
    "# dump(lda,'lda_40topic.joblib')\n",
    "\n",
    "\n"
   ]
  },
  {
   "cell_type": "code",
   "execution_count": 32,
   "metadata": {
    "slideshow": {
     "slide_type": "skip"
    }
   },
   "outputs": [],
   "source": [
    "# import lda\n",
    "# model = lda.LDA(n_topics=20, n_iter=1500, random_state=1)\n",
    "# model.fit(X)  # model.fit_transform(X) is also available\n",
    "# topic_word = model.topic_word_  # model.components_ also works\n",
    "# n_top_words = 8\n",
    "# tf_feature_names = cv.get_feature_names()\n",
    "# # print_top_words(lda, tf_feature_names, 10)\n",
    "# for i, topic_dist in enumerate(topic_word):\n",
    "#     topic_words = np.array(tf_feature_names)[np.argsort(topic_dist)][:-(n_top_words+1):-1]\n",
    "#     print('Topic {}: {}'.format(i, ', '.join(topic_words)))\n",
    "# doc_topic = model.doc_topic_\n",
    "# for i in range(10):\n",
    "#      print(\"{} (top topic: {})\".format( doc_topic[i]))"
   ]
  },
  {
   "cell_type": "code",
   "execution_count": 14,
   "metadata": {
    "slideshow": {
     "slide_type": "skip"
    }
   },
   "outputs": [],
   "source": [
    "# topic_word_distribution=lda.components_ / lda.components_.sum(axis=1)[:, np.newaxis]\n",
    "# word_topic_distribution=(topic_word_distribution/topic_word_distribution.sum(axis=0)).T\n",
    "# host_topic_distribution=lda.transform(X)\n",
    "# topic_host_distribution=(host_topic_distribution/host_topic_distribution.sum(axis=0)).T\n",
    "# word_host_distribution=word_topic_distribution.dot(topic_host_distribution)"
   ]
  },
  {
   "cell_type": "code",
   "execution_count": 12,
   "metadata": {
    "slideshow": {
     "slide_type": "skip"
    }
   },
   "outputs": [],
   "source": [
    "# a=pd.DataFrame(word_host_distribution)\n",
    "# a.to_csv('word_host_distribution.csv')\n",
    "# b=pd.DataFrame(tf_feature_names)\n",
    "# b.to_csv('tf_feature_names.csv')"
   ]
  },
  {
   "cell_type": "code",
   "execution_count": 132,
   "metadata": {
    "slideshow": {
     "slide_type": "skip"
    }
   },
   "outputs": [],
   "source": [
    "# tf_feature_names=pd.read_csv('tf_feature_names.csv').iloc[:,1].tolist()\n",
    "# word_host_distribution=pd.read_csv('word_host_distribution.csv').iloc[:,1:].values\n",
    "# listing=pd.read_csv('listings 2.csv')\n",
    "\n",
    "from __future__ import print_function\n",
    "from ipywidgets import interact, interactive, fixed, interact_manual\n",
    "import ipywidgets as widgets\n",
    "from IPython.display import display\n",
    "\n",
    "def search(search_words):\n",
    "    word_indexes=[]\n",
    "    pro=np.zeros(word_host_distribution.shape[1])\n",
    "    go=False\n",
    "    for word in search_words.split(' '):\n",
    "        try:\n",
    "            k=tf_feature_names.index(word)\n",
    "            go=True\n",
    "            pro+=word_host_distribution[k]\n",
    "        except:\n",
    "            ValueError\n",
    "            print('warning: the word \"{}\" has not been learned'.format(word))\n",
    "            print('-'*50)\n",
    "    if not go:\n",
    "#         print('no words typed')\n",
    "        return\n",
    "    i=pro.argsort()\n",
    "    ids=all_list_ids[i]\n",
    "    for j in range(-1,-11,-1):\n",
    "        url=listing.ix[listing.id==ids[j],'listing_url'].tolist()[0]\n",
    "        print('result: {}; '.format(-j),'url: ', url)\n",
    "#         print('-'*50)\n",
    "#         print('documents: ')\n",
    "#         print(' '*50)\n",
    "#         print(documents[i[j]])\n",
    "#         print(' '*50)\n",
    "        "
   ]
  },
  {
   "cell_type": "markdown",
   "metadata": {
    "slideshow": {
     "slide_type": "slide"
    }
   },
   "source": [
    "                Demo Show: result of key word search"
   ]
  },
  {
   "cell_type": "code",
   "execution_count": 134,
   "metadata": {
    "scrolled": true,
    "slideshow": {
     "slide_type": "slide"
    }
   },
   "outputs": [
    {
     "data": {
      "application/vnd.jupyter.widget-view+json": {
       "model_id": "544d18777ea148f6a33cd8a996dc2687",
       "version_major": 2,
       "version_minor": 0
      },
      "text/plain": [
       "interactive(children=(Text(value='with', description='search_words'), Output()), _dom_classes=('widget-interac…"
      ]
     },
     "metadata": {},
     "output_type": "display_data"
    },
    {
     "data": {
      "text/plain": [
       "<function __main__.search(search_words)>"
      ]
     },
     "execution_count": 134,
     "metadata": {},
     "output_type": "execute_result"
    }
   ],
   "source": [
    "interact(search, search_words='with')"
   ]
  },
  {
   "cell_type": "code",
   "execution_count": 97,
   "metadata": {
    "slideshow": {
     "slide_type": "notes"
    }
   },
   "outputs": [],
   "source": [
    "test_words=['view','restaurants',['clean','big','sunny','friendly']]\n",
    "rank_to_show=[2,9,2]"
   ]
  }
 ],
 "metadata": {
  "celltoolbar": "Slideshow",
  "kernelspec": {
   "display_name": "Python 3",
   "language": "python",
   "name": "python3"
  },
  "language_info": {
   "codemirror_mode": {
    "name": "ipython",
    "version": 3
   },
   "file_extension": ".py",
   "mimetype": "text/x-python",
   "name": "python",
   "nbconvert_exporter": "python",
   "pygments_lexer": "ipython3",
   "version": "3.6.5"
  }
 },
 "nbformat": 4,
 "nbformat_minor": 2
}
