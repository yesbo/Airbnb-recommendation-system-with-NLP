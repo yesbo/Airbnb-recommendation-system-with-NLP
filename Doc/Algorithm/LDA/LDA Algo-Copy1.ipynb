{
 "cells": [
  {
   "cell_type": "code",
   "execution_count": 1,
   "metadata": {},
   "outputs": [],
   "source": [
    "%matplotlib inline\n",
    "import torch\n",
    "import torch.nn as nn\n",
    "import pandas as pd\n",
    "import numpy as np\n",
    "import os\n",
    "import matplotlib\n",
    "import time\n",
    "import sklearn.model_selection\n",
    "from sklearn.feature_extraction.text import CountVectorizer\n",
    "from sklearn.decomposition import LatentDirichletAllocation\n",
    "import time\n",
    "# from sklearn.model_selection import train_test_splite\n",
    "# from sklearn"
   ]
  },
  {
   "cell_type": "markdown",
   "metadata": {},
   "source": [
    "Read Data"
   ]
  },
  {
   "cell_type": "code",
   "execution_count": 2,
   "metadata": {},
   "outputs": [],
   "source": [
    "reviews=pd.read_csv('./reviews.csv')\n",
    "all_list_ids=reviews['listing_id'].unique()\n",
    "documents=[]\n",
    "for id in all_list_ids:\n",
    "    selector=reviews.listing_id==id\n",
    "    docs_per_house=reviews.loc[selector,'comments']\n",
    "    doc=''\n",
    "    for i in docs_per_house:\n",
    "        doc+=str(i)\n",
    "    documents.append(doc)"
   ]
  },
  {
   "cell_type": "markdown",
   "metadata": {},
   "source": [
    "NLP preprocessing"
   ]
  },
  {
   "cell_type": "code",
   "execution_count": 3,
   "metadata": {
    "scrolled": true
   },
   "outputs": [],
   "source": [
    "cv=CountVectorizer(max_df=0.5,strip_accents='unicode',\n",
    "                   max_features=3000,\n",
    "                   min_df=2,\n",
    "                   stop_words='english')\n",
    "X=cv.fit_transform(documents)"
   ]
  },
  {
   "cell_type": "markdown",
   "metadata": {},
   "source": [
    "Save word_preprocessing model"
   ]
  },
  {
   "cell_type": "code",
   "execution_count": 6,
   "metadata": {},
   "outputs": [],
   "source": [
    "# from joblib import dump,load\n",
    "# dump(cv,'countVectorize.joblib')\n",
    "# cv=load('countVectorize.joblib')\n",
    "# X=cv.transform(documents)"
   ]
  },
  {
   "cell_type": "markdown",
   "metadata": {},
   "source": [
    "Run LDA"
   ]
  },
  {
   "cell_type": "code",
   "execution_count": null,
   "metadata": {},
   "outputs": [],
   "source": [
    "lda = LatentDirichletAllocation(n_components=40, max_iter=200,\n",
    "                                n_jobs=-1,\n",
    "                                learning_method='online',\n",
    "                                learning_offset=50.,\n",
    "                                random_state=0)\n",
    "\n",
    "start=time.time()\n",
    "lda.fit(X)\n",
    "print('trainning time: ', str(time.time()-start)[:-5])\n",
    "def print_top_words(model, feature_names, n_top_words):\n",
    "    for topic_idx, topic in enumerate(model.components_):\n",
    "        message = \"Topic #%d: \" % topic_idx\n",
    "        message += \", \".join([feature_names[i]\n",
    "                             for i in topic.argsort()[:-n_top_words - 1:-1]])\n",
    "        print(message)\n",
    "tf_feature_names = cv.get_feature_names()\n",
    "print_top_words(lda, tf_feature_names, 30)\n",
    "dump(lda,'lda_40topic2.joblib')\n",
    "\n",
    "\n"
   ]
  },
  {
   "cell_type": "code",
   "execution_count": 32,
   "metadata": {},
   "outputs": [],
   "source": [
    "# import lda\n",
    "# model = lda.LDA(n_topics=20, n_iter=1500, random_state=1)\n",
    "# model.fit(X)  # model.fit_transform(X) is also available\n",
    "# topic_word = model.topic_word_  # model.components_ also works\n",
    "# n_top_words = 8\n",
    "# tf_feature_names = cv.get_feature_names()\n",
    "# # print_top_words(lda, tf_feature_names, 10)\n",
    "# for i, topic_dist in enumerate(topic_word):\n",
    "#     topic_words = np.array(tf_feature_names)[np.argsort(topic_dist)][:-(n_top_words+1):-1]\n",
    "#     print('Topic {}: {}'.format(i, ', '.join(topic_words)))\n",
    "# doc_topic = model.doc_topic_\n",
    "# for i in range(10):\n",
    "#      print(\"{} (top topic: {})\".format( doc_topic[i]))"
   ]
  },
  {
   "cell_type": "code",
   "execution_count": 30,
   "metadata": {},
   "outputs": [
    {
     "data": {
      "text/plain": [
       "'-5.00'"
      ]
     },
     "execution_count": 30,
     "metadata": {},
     "output_type": "execute_result"
    }
   ],
   "source": []
  },
  {
   "cell_type": "code",
   "execution_count": null,
   "metadata": {},
   "outputs": [],
   "source": []
  },
  {
   "cell_type": "code",
   "execution_count": null,
   "metadata": {},
   "outputs": [],
   "source": []
  },
  {
   "cell_type": "code",
   "execution_count": null,
   "metadata": {},
   "outputs": [],
   "source": []
  }
 ],
 "metadata": {
  "kernelspec": {
   "display_name": "Python 3",
   "language": "python",
   "name": "python3"
  },
  "language_info": {
   "codemirror_mode": {
    "name": "ipython",
    "version": 3
   },
   "file_extension": ".py",
   "mimetype": "text/x-python",
   "name": "python",
   "nbconvert_exporter": "python",
   "pygments_lexer": "ipython3",
   "version": "3.6.5"
  }
 },
 "nbformat": 4,
 "nbformat_minor": 2
}
