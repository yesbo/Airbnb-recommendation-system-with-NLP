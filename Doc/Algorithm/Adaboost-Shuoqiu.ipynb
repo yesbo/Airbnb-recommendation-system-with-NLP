{
 "cells": [
  {
   "cell_type": "code",
   "execution_count": 1,
   "metadata": {},
   "outputs": [],
   "source": [
    "import pandas as pd \n",
    "import numpy as np\n",
    "from statistics import mean \n",
    "import os\n",
    "import math\n",
    "from sklearn.tree import DecisionTreeRegressor\n",
    "from sklearn.ensemble import AdaBoostRegressor\n",
    "os.chdir('C:/Users/usert/Documents/GitHub/GitHub')"
   ]
  },
  {
   "cell_type": "code",
   "execution_count": 2,
   "metadata": {},
   "outputs": [],
   "source": [
    "Data = pd.read_csv(\"train.csv\", error_bad_lines=False, warn_bad_lines=False)\n",
    "nrow = Data.shape[0]\n",
    "# Seperate train and test data, with 75% of dataset as train data.\n",
    "np.random.seed(0)\n",
    "train = Data.sample(int(nrow*0.75))\n",
    "test = pd.concat([Data, train, train]).drop_duplicates(keep=False)"
   ]
  },
  {
   "cell_type": "code",
   "execution_count": 3,
   "metadata": {},
   "outputs": [],
   "source": [
    "y_train = train['review_scores_rating']\n",
    "X_train = train.drop(['review_scores_rating'], axis=1)\n",
    "y_test = test['review_scores_rating']\n",
    "X_test = test.drop(['review_scores_rating'], axis=1)"
   ]
  },
  {
   "cell_type": "code",
   "execution_count": 4,
   "metadata": {},
   "outputs": [
    {
     "name": "stdout",
     "output_type": "stream",
     "text": [
      "7.978988275310981\n",
      "7.943126765086661\n",
      "7.948776362246933\n",
      "7.978098500224681\n",
      "7.934272027463556\n",
      "7.950938788402694\n",
      "7.961908199836774\n",
      "7.955786788862815\n",
      "7.936412096851245\n",
      "7.95293435221808\n"
     ]
    }
   ],
   "source": [
    "# Select the best number of estimators at which boosting is terminated\n",
    "seq = np.linspace(start = 100, stop = 1000, num = 10)\n",
    "for i in seq:\n",
    "    regr = AdaBoostRegressor(DecisionTreeRegressor(),n_estimators=int(i))\n",
    "    regr.fit(X_train, y_train)\n",
    "    pred = regr.predict(X_test)\n",
    "    diff = list(y_test - pred)\n",
    "    diff_sq = [n**2 for n in diff]\n",
    "    MSE = math.sqrt(mean(diff_sq))\n",
    "    print(MSE)"
   ]
  },
  {
   "cell_type": "code",
   "execution_count": 5,
   "metadata": {},
   "outputs": [],
   "source": [
    "Trainset = Data\n",
    "Testset = pd.read_csv(\"test.csv\", error_bad_lines=False, warn_bad_lines=False)\n",
    "y_Trainset = Trainset['review_scores_rating']\n",
    "X_Trainset = Trainset.drop(['review_scores_rating'], axis=1)\n",
    "y_Testset = Testset['review_scores_rating']\n",
    "X_Testset = Testset.drop(['review_scores_rating'], axis=1)"
   ]
  },
  {
   "cell_type": "code",
   "execution_count": 1,
   "metadata": {},
   "outputs": [
    {
     "ename": "NameError",
     "evalue": "name 'AdaBoostRegressor' is not defined",
     "output_type": "error",
     "traceback": [
      "\u001b[1;31m---------------------------------------------------------------------------\u001b[0m",
      "\u001b[1;31mNameError\u001b[0m                                 Traceback (most recent call last)",
      "\u001b[1;32m<ipython-input-1-19dbfa4f27f9>\u001b[0m in \u001b[0;36m<module>\u001b[1;34m()\u001b[0m\n\u001b[0;32m      1\u001b[0m \u001b[1;31m# The optimal number of estimators is 100\u001b[0m\u001b[1;33m\u001b[0m\u001b[1;33m\u001b[0m\u001b[0m\n\u001b[1;32m----> 2\u001b[1;33m \u001b[0mmodel\u001b[0m \u001b[1;33m=\u001b[0m \u001b[0mAdaBoostRegressor\u001b[0m\u001b[1;33m(\u001b[0m\u001b[0mDecisionTreeRegressor\u001b[0m\u001b[1;33m(\u001b[0m\u001b[1;33m)\u001b[0m\u001b[1;33m,\u001b[0m\u001b[0mn_estimators\u001b[0m\u001b[1;33m=\u001b[0m\u001b[1;36m500\u001b[0m\u001b[1;33m)\u001b[0m\u001b[1;33m\u001b[0m\u001b[0m\n\u001b[0m\u001b[0;32m      3\u001b[0m \u001b[0mmodel\u001b[0m\u001b[1;33m.\u001b[0m\u001b[0mfit\u001b[0m\u001b[1;33m(\u001b[0m\u001b[0mX_Trainset\u001b[0m\u001b[1;33m,\u001b[0m \u001b[0my_Trainset\u001b[0m\u001b[1;33m)\u001b[0m\u001b[1;33m\u001b[0m\u001b[0m\n\u001b[0;32m      4\u001b[0m \u001b[0mpredictions\u001b[0m \u001b[1;33m=\u001b[0m \u001b[0mmodel\u001b[0m\u001b[1;33m.\u001b[0m\u001b[0mpredict\u001b[0m\u001b[1;33m(\u001b[0m\u001b[0mX_Testset\u001b[0m\u001b[1;33m)\u001b[0m\u001b[1;33m\u001b[0m\u001b[0m\n\u001b[0;32m      5\u001b[0m \u001b[0merror\u001b[0m \u001b[1;33m=\u001b[0m \u001b[0mlist\u001b[0m\u001b[1;33m(\u001b[0m\u001b[0my_Testset\u001b[0m \u001b[1;33m-\u001b[0m \u001b[0mpredictions\u001b[0m\u001b[1;33m)\u001b[0m\u001b[1;33m\u001b[0m\u001b[0m\n",
      "\u001b[1;31mNameError\u001b[0m: name 'AdaBoostRegressor' is not defined"
     ]
    }
   ],
   "source": [
    "# The optimal number of estimators is 100\n",
    "model = AdaBoostRegressor(DecisionTreeRegressor(),n_estimators=500)\n",
    "model.fit(X_Trainset, y_Trainset)\n",
    "predictions = model.predict(X_Testset)\n",
    "error = list(y_Testset - predictions)\n",
    "error_sq = [n**2 for n in error]\n",
    "MSE = math.sqrt(mean(error_sq))\n",
    "print(MSE)"
   ]
  },
  {
   "cell_type": "code",
   "execution_count": null,
   "metadata": {},
   "outputs": [],
   "source": []
  }
 ],
 "metadata": {
  "kernelspec": {
   "display_name": "Python 3",
   "language": "python",
   "name": "python3"
  },
  "language_info": {
   "codemirror_mode": {
    "name": "ipython",
    "version": 3
   },
   "file_extension": ".py",
   "mimetype": "text/x-python",
   "name": "python",
   "nbconvert_exporter": "python",
   "pygments_lexer": "ipython3",
   "version": "3.6.3"
  }
 },
 "nbformat": 4,
 "nbformat_minor": 2
}
