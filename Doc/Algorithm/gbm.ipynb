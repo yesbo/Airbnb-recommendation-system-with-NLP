{
 "cells": [
  {
   "cell_type": "markdown",
   "metadata": {},
   "source": [
    "# import packages"
   ]
  },
  {
   "cell_type": "code",
   "execution_count": 84,
   "metadata": {
    "collapsed": true
   },
   "outputs": [],
   "source": [
    "import pandas as pd\n",
    "import seaborn as sns\n",
    "import matplotlib.pyplot as plt\n",
    "import scipy as scipy\n",
    "\n",
    "# Comment this if the data visualisations doesn't work on your side\n",
    "%matplotlib inline\n",
    "\n",
    "import numpy as np\n",
    "from sklearn.ensemble import GradientBoostingRegressor  #GBM algorithm\n",
    "from sklearn import cross_validation, metrics   #Additional scklearn functions\n",
    "from sklearn.grid_search import GridSearchCV   #Perforing grid search\n",
    "from sklearn.metrics import mean_squared_error\n",
    "\n",
    "from matplotlib.pylab import rcParams\n",
    "rcParams['figure.figsize'] = 12, 4\n",
    "import timeit"
   ]
  },
  {
   "cell_type": "markdown",
   "metadata": {},
   "source": [
    "# read file"
   ]
  },
  {
   "cell_type": "code",
   "execution_count": 72,
   "metadata": {},
   "outputs": [
    {
     "data": {
      "text/html": [
       "<div>\n",
       "<style>\n",
       "    .dataframe thead tr:only-child th {\n",
       "        text-align: right;\n",
       "    }\n",
       "\n",
       "    .dataframe thead th {\n",
       "        text-align: left;\n",
       "    }\n",
       "\n",
       "    .dataframe tbody tr th {\n",
       "        vertical-align: top;\n",
       "    }\n",
       "</style>\n",
       "<table border=\"1\" class=\"dataframe\">\n",
       "  <thead>\n",
       "    <tr style=\"text-align: right;\">\n",
       "      <th></th>\n",
       "      <th>id</th>\n",
       "      <th>host_is_superhost</th>\n",
       "      <th>property_type_Apartment</th>\n",
       "      <th>property_type_Guest suite</th>\n",
       "      <th>property_type_House</th>\n",
       "      <th>property_type_Loft</th>\n",
       "      <th>property_type_Townhouse</th>\n",
       "      <th>property_type_Bed and breakfast</th>\n",
       "      <th>property_type_Condominium</th>\n",
       "      <th>property_type_Boutique hotel</th>\n",
       "      <th>...</th>\n",
       "      <th>neighbourhood_cleansed_Westchester Square</th>\n",
       "      <th>neighbourhood_cleansed_Westerleigh</th>\n",
       "      <th>neighbourhood_cleansed_Whitestone</th>\n",
       "      <th>neighbourhood_cleansed_Williamsbridge</th>\n",
       "      <th>neighbourhood_cleansed_Williamsburg</th>\n",
       "      <th>neighbourhood_cleansed_Windsor Terrace</th>\n",
       "      <th>neighbourhood_cleansed_Woodhaven</th>\n",
       "      <th>neighbourhood_cleansed_Woodlawn</th>\n",
       "      <th>neighbourhood_cleansed_Woodrow</th>\n",
       "      <th>neighbourhood_cleansed_Woodside</th>\n",
       "    </tr>\n",
       "  </thead>\n",
       "  <tbody>\n",
       "    <tr>\n",
       "      <th>0</th>\n",
       "      <td>6374694</td>\n",
       "      <td>0</td>\n",
       "      <td>1</td>\n",
       "      <td>0</td>\n",
       "      <td>0</td>\n",
       "      <td>0</td>\n",
       "      <td>0</td>\n",
       "      <td>0</td>\n",
       "      <td>0</td>\n",
       "      <td>0</td>\n",
       "      <td>...</td>\n",
       "      <td>0.0</td>\n",
       "      <td>0.0</td>\n",
       "      <td>0.0</td>\n",
       "      <td>0.0</td>\n",
       "      <td>0.0</td>\n",
       "      <td>0.0</td>\n",
       "      <td>0.0</td>\n",
       "      <td>0.0</td>\n",
       "      <td>0.0</td>\n",
       "      <td>0.0</td>\n",
       "    </tr>\n",
       "    <tr>\n",
       "      <th>1</th>\n",
       "      <td>7218561</td>\n",
       "      <td>1</td>\n",
       "      <td>1</td>\n",
       "      <td>0</td>\n",
       "      <td>0</td>\n",
       "      <td>0</td>\n",
       "      <td>0</td>\n",
       "      <td>0</td>\n",
       "      <td>0</td>\n",
       "      <td>0</td>\n",
       "      <td>...</td>\n",
       "      <td>0.0</td>\n",
       "      <td>0.0</td>\n",
       "      <td>0.0</td>\n",
       "      <td>0.0</td>\n",
       "      <td>0.0</td>\n",
       "      <td>0.0</td>\n",
       "      <td>0.0</td>\n",
       "      <td>0.0</td>\n",
       "      <td>0.0</td>\n",
       "      <td>0.0</td>\n",
       "    </tr>\n",
       "    <tr>\n",
       "      <th>2</th>\n",
       "      <td>20553159</td>\n",
       "      <td>0</td>\n",
       "      <td>1</td>\n",
       "      <td>0</td>\n",
       "      <td>0</td>\n",
       "      <td>0</td>\n",
       "      <td>0</td>\n",
       "      <td>0</td>\n",
       "      <td>0</td>\n",
       "      <td>0</td>\n",
       "      <td>...</td>\n",
       "      <td>0.0</td>\n",
       "      <td>0.0</td>\n",
       "      <td>0.0</td>\n",
       "      <td>0.0</td>\n",
       "      <td>0.0</td>\n",
       "      <td>0.0</td>\n",
       "      <td>0.0</td>\n",
       "      <td>0.0</td>\n",
       "      <td>0.0</td>\n",
       "      <td>0.0</td>\n",
       "    </tr>\n",
       "    <tr>\n",
       "      <th>3</th>\n",
       "      <td>17415890</td>\n",
       "      <td>0</td>\n",
       "      <td>1</td>\n",
       "      <td>0</td>\n",
       "      <td>0</td>\n",
       "      <td>0</td>\n",
       "      <td>0</td>\n",
       "      <td>0</td>\n",
       "      <td>0</td>\n",
       "      <td>0</td>\n",
       "      <td>...</td>\n",
       "      <td>0.0</td>\n",
       "      <td>0.0</td>\n",
       "      <td>0.0</td>\n",
       "      <td>0.0</td>\n",
       "      <td>1.0</td>\n",
       "      <td>0.0</td>\n",
       "      <td>0.0</td>\n",
       "      <td>0.0</td>\n",
       "      <td>0.0</td>\n",
       "      <td>0.0</td>\n",
       "    </tr>\n",
       "    <tr>\n",
       "      <th>4</th>\n",
       "      <td>16825557</td>\n",
       "      <td>0</td>\n",
       "      <td>0</td>\n",
       "      <td>1</td>\n",
       "      <td>0</td>\n",
       "      <td>0</td>\n",
       "      <td>0</td>\n",
       "      <td>0</td>\n",
       "      <td>0</td>\n",
       "      <td>0</td>\n",
       "      <td>...</td>\n",
       "      <td>0.0</td>\n",
       "      <td>0.0</td>\n",
       "      <td>0.0</td>\n",
       "      <td>0.0</td>\n",
       "      <td>0.0</td>\n",
       "      <td>0.0</td>\n",
       "      <td>0.0</td>\n",
       "      <td>0.0</td>\n",
       "      <td>0.0</td>\n",
       "      <td>0.0</td>\n",
       "    </tr>\n",
       "  </tbody>\n",
       "</table>\n",
       "<p>5 rows × 434 columns</p>\n",
       "</div>"
      ],
      "text/plain": [
       "         id  host_is_superhost  property_type_Apartment  \\\n",
       "0   6374694                  0                        1   \n",
       "1   7218561                  1                        1   \n",
       "2  20553159                  0                        1   \n",
       "3  17415890                  0                        1   \n",
       "4  16825557                  0                        0   \n",
       "\n",
       "   property_type_Guest suite  property_type_House  property_type_Loft  \\\n",
       "0                          0                    0                   0   \n",
       "1                          0                    0                   0   \n",
       "2                          0                    0                   0   \n",
       "3                          0                    0                   0   \n",
       "4                          1                    0                   0   \n",
       "\n",
       "   property_type_Townhouse  property_type_Bed and breakfast  \\\n",
       "0                        0                                0   \n",
       "1                        0                                0   \n",
       "2                        0                                0   \n",
       "3                        0                                0   \n",
       "4                        0                                0   \n",
       "\n",
       "   property_type_Condominium  property_type_Boutique hotel  \\\n",
       "0                          0                             0   \n",
       "1                          0                             0   \n",
       "2                          0                             0   \n",
       "3                          0                             0   \n",
       "4                          0                             0   \n",
       "\n",
       "                ...                 neighbourhood_cleansed_Westchester Square  \\\n",
       "0               ...                                                       0.0   \n",
       "1               ...                                                       0.0   \n",
       "2               ...                                                       0.0   \n",
       "3               ...                                                       0.0   \n",
       "4               ...                                                       0.0   \n",
       "\n",
       "   neighbourhood_cleansed_Westerleigh  neighbourhood_cleansed_Whitestone  \\\n",
       "0                                 0.0                                0.0   \n",
       "1                                 0.0                                0.0   \n",
       "2                                 0.0                                0.0   \n",
       "3                                 0.0                                0.0   \n",
       "4                                 0.0                                0.0   \n",
       "\n",
       "   neighbourhood_cleansed_Williamsbridge  neighbourhood_cleansed_Williamsburg  \\\n",
       "0                                    0.0                                  0.0   \n",
       "1                                    0.0                                  0.0   \n",
       "2                                    0.0                                  0.0   \n",
       "3                                    0.0                                  1.0   \n",
       "4                                    0.0                                  0.0   \n",
       "\n",
       "   neighbourhood_cleansed_Windsor Terrace  neighbourhood_cleansed_Woodhaven  \\\n",
       "0                                     0.0                               0.0   \n",
       "1                                     0.0                               0.0   \n",
       "2                                     0.0                               0.0   \n",
       "3                                     0.0                               0.0   \n",
       "4                                     0.0                               0.0   \n",
       "\n",
       "   neighbourhood_cleansed_Woodlawn  neighbourhood_cleansed_Woodrow  \\\n",
       "0                              0.0                             0.0   \n",
       "1                              0.0                             0.0   \n",
       "2                              0.0                             0.0   \n",
       "3                              0.0                             0.0   \n",
       "4                              0.0                             0.0   \n",
       "\n",
       "   neighbourhood_cleansed_Woodside  \n",
       "0                              0.0  \n",
       "1                              0.0  \n",
       "2                              0.0  \n",
       "3                              0.0  \n",
       "4                              0.0  \n",
       "\n",
       "[5 rows x 434 columns]"
      ]
     },
     "execution_count": 72,
     "metadata": {},
     "output_type": "execute_result"
    }
   ],
   "source": [
    "train = pd.read_csv('train.csv')\n",
    "train = train.drop(['Unnamed: 0'], axis=1)\n",
    "train.head(5)\n",
    "\n",
    "#train.dtypes\n",
    "#train.shape\n",
    "#sum(np.isnan(train['review_scores_rating']))"
   ]
  },
  {
   "cell_type": "code",
   "execution_count": 73,
   "metadata": {
    "collapsed": true
   },
   "outputs": [],
   "source": [
    "target = 'review_scores_rating'\n",
    "ID = 'id'"
   ]
  },
  {
   "cell_type": "code",
   "execution_count": 74,
   "metadata": {},
   "outputs": [
    {
     "data": {
      "text/plain": [
       "(9581, 435)"
      ]
     },
     "execution_count": 74,
     "metadata": {},
     "output_type": "execute_result"
    }
   ],
   "source": [
    "test = pd.read_csv('test.csv')\n",
    "test.head(5)\n",
    "test.shape"
   ]
  },
  {
   "cell_type": "markdown",
   "metadata": {},
   "source": [
    "# Define a function \n",
    "which will help us create GBM models and perform cross-validation."
   ]
  },
  {
   "cell_type": "code",
   "execution_count": 77,
   "metadata": {
    "collapsed": true
   },
   "outputs": [],
   "source": [
    "def modelfit(alg, dtrain, predictors, performCV=True, printFeatureImportance=True):\n",
    "    #Fit the algorithm on the data\n",
    "    alg.fit(dtrain[predictors], dtrain['review_scores_rating'])\n",
    "        \n",
    "    #Predict training set:\n",
    "    dtrain_predictions = alg.predict(dtrain[predictors])\n",
    "    #dtrain_predprob = alg.predict_proba(dtrain[predictors])[:,1]\n",
    "    \n",
    "    #Perform cross-validation:\n",
    "    #if performCV:\n",
    "        #cv_score = cross_validation.cross_val_score(alg, dtrain[predictors], dtrain['review_scores_rating'], cv=cv_folds, scoring='roc_auc')\n",
    "    \n",
    "    #Print model report:\n",
    "    print (\"\\nModel Report\")\n",
    "    #print (\"Accuracy : %.4g\" % metrics.accuracy_score(dtrain['review_scores_rating'].values, dtrain_predictions))\n",
    "    #print (\"AUC Score (Train): %f\" % metrics.roc_auc_score(dtrain['review_scores_rating'], dtrain_predprob))\n",
    "    \n",
    "    #if performCV:\n",
    "        #print (\"CV Score : Mean - %.7g | Std - %.7g | Min - %.7g | Max - %.7g\" % (np.mean(cv_score),np.std(cv_score),np.min(cv_score),np.max(cv_score)))\n",
    "        \n",
    "    #Print Feature Importance:\n",
    "    if printFeatureImportance:\n",
    "        feat_imp = pd.Series(alg.feature_importances_, predictors).sort_values(ascending=False)\n",
    "        feat_imp.plot(kind='bar', title='Feature Importances')\n",
    "        plt.ylabel('Feature Importance Score')"
   ]
  },
  {
   "cell_type": "markdown",
   "metadata": {},
   "source": [
    "# baseline model"
   ]
  },
  {
   "cell_type": "code",
   "execution_count": 95,
   "metadata": {
    "collapsed": true
   },
   "outputs": [],
   "source": [
    "#lossfunction = scipy.special.huber"
   ]
  },
  {
   "cell_type": "code",
   "execution_count": 75,
   "metadata": {
    "collapsed": true
   },
   "outputs": [],
   "source": [
    "#Choose all predictors except target & IDcols\n",
    "predictors = [x for x in train.columns if x not in [target, ID]]\n",
    "gbm0 = GradientBoostingRegressor(random_state=10)\n",
    "#train_temp = train[0:100]\n",
    "fit= gbm0.fit(train[predictors], train[target])"
   ]
  },
  {
   "cell_type": "code",
   "execution_count": 76,
   "metadata": {},
   "outputs": [
    {
     "data": {
      "text/plain": [
       "numpy.ndarray"
      ]
     },
     "execution_count": 76,
     "metadata": {},
     "output_type": "execute_result"
    }
   ],
   "source": [
    "type(fit.feature_importances_[0:10])"
   ]
  },
  {
   "cell_type": "code",
   "execution_count": 78,
   "metadata": {},
   "outputs": [
    {
     "name": "stdout",
     "output_type": "stream",
     "text": [
      "MSE of the GBM on test set: 7.18668\n"
     ]
    }
   ],
   "source": [
    "train_predictions = fit.predict(train[predictors])\n",
    "MSE_train = np.sqrt(mean_squared_error(train[target], train_predictions))\n",
    "print('MSE of the GBM on test set: {:.5f}'.format(MSE_train))"
   ]
  },
  {
   "cell_type": "code",
   "execution_count": 79,
   "metadata": {},
   "outputs": [
    {
     "name": "stdout",
     "output_type": "stream",
     "text": [
      "MSE of the GBM on test set: 9.57046\n"
     ]
    }
   ],
   "source": [
    "test_predictions = fit.predict(test[predictors])\n",
    "MSE_test = np.sqrt(mean_squared_error(test[target], test_predictions))\n",
    "print('MSE of the GBM on test set: {:.5f}'.format(MSE_test))"
   ]
  },
  {
   "cell_type": "code",
   "execution_count": 17,
   "metadata": {},
   "outputs": [
    {
     "data": {
      "text/plain": [
       "<matplotlib.text.Text at 0x20151b47358>"
      ]
     },
     "execution_count": 17,
     "metadata": {},
     "output_type": "execute_result"
    },
    {
     "data": {
      "image/png": "[encoded data removed]",
      "text/plain": [
       "<matplotlib.figure.Figure at 0x20151cdb5f8>"
      ]
     },
     "metadata": {},
     "output_type": "display_data"
    }
   ],
   "source": [
    "\n",
    "feat_imp = pd.Series(fit.feature_importances_, predictors).sort_values(ascending=False)\n",
    "feat_imp[:20].plot(kind='bar', title='Feature Importances')\n",
    "plt.ylabel('Feature Importance Score')"
   ]
  },
  {
   "cell_type": "markdown",
   "metadata": {},
   "source": [
    "## Learning rate and number of parameters\n",
    "Learning rate: [0.05, 0.10,0.12,0.14,0.16,0.18]\n",
    "number of estimators: from 80 to 150, step 10"
   ]
  },
  {
   "cell_type": "code",
   "execution_count": 45,
   "metadata": {},
   "outputs": [
    {
     "data": {
      "text/plain": [
       "GridSearchCV(cv=5, error_score='raise',\n",
       "       estimator=GradientBoostingRegressor(alpha=0.9, criterion='friedman_mse', init=None,\n",
       "             learning_rate=0.15, loss='ls', max_depth=8,\n",
       "             max_features='sqrt', max_leaf_nodes=None,\n",
       "             min_impurity_decrease=0.0, min_impurity_split=None,\n",
       "             min_samples_leaf=50, min_samples_split=500,\n",
       "             min_weight_fraction_leaf=0.0, n_estimators=100,\n",
       "             presort='auto', random_state=10, subsample=0.8, verbose=0,\n",
       "             warm_start=False),\n",
       "       fit_params={}, iid=False, n_jobs=4,\n",
       "       param_grid={'n_estimators': [100, 110, 120, 130, 140, 150, 160, 170, 180]},\n",
       "       pre_dispatch='2*n_jobs', refit=True, scoring=None, verbose=0)"
      ]
     },
     "execution_count": 45,
     "metadata": {},
     "output_type": "execute_result"
    }
   ],
   "source": [
    "#train_temp = train[0:100]\n",
    "#if the values are too high ~100, tuning the other parameters will take long time and you can try a higher learning rate\n",
    "predictors = [x for x in train.columns if x not in [target, ID]]\n",
    "param_test1 = {'n_estimators': list(range(100,181,10))}\n",
    "gsearch1 = GridSearchCV(estimator = \n",
    "                        GradientBoostingRegressor(learning_rate = 0.15, min_samples_split=500,min_samples_leaf=50,\n",
    "                                                  max_depth=8,max_features='sqrt',subsample=0.8,random_state=10), \n",
    "                        param_grid = param_test1, n_jobs=4,iid=False, cv=5)\n",
    "gsearch1.fit(train[predictors],train[target])"
   ]
  },
  {
   "cell_type": "code",
   "execution_count": 46,
   "metadata": {},
   "outputs": [
    {
     "data": {
      "text/plain": [
       "([mean: 0.11825, std: 0.01310, params: {'n_estimators': 100},\n",
       "  mean: 0.11903, std: 0.01335, params: {'n_estimators': 110},\n",
       "  mean: 0.11960, std: 0.01315, params: {'n_estimators': 120},\n",
       "  mean: 0.12003, std: 0.01366, params: {'n_estimators': 130},\n",
       "  mean: 0.12012, std: 0.01483, params: {'n_estimators': 140},\n",
       "  mean: 0.11987, std: 0.01581, params: {'n_estimators': 150},\n",
       "  mean: 0.12068, std: 0.01668, params: {'n_estimators': 160},\n",
       "  mean: 0.12044, std: 0.01789, params: {'n_estimators': 170},\n",
       "  mean: 0.11957, std: 0.01886, params: {'n_estimators': 180}],\n",
       " {'n_estimators': 160},\n",
       " 0.12068398155495641)"
      ]
     },
     "execution_count": 46,
     "metadata": {},
     "output_type": "execute_result"
    }
   ],
   "source": [
    "gsearch1.grid_scores_, gsearch1.best_params_, gsearch1.best_score_"
   ]
  },
  {
   "cell_type": "markdown",
   "metadata": {},
   "source": [
    "## max depth and min samples split\n",
    "Test max_depth values of 5 to 15 in steps of 2 and min_samples_split from 200 to 1000 in steps of 200"
   ]
  },
  {
   "cell_type": "code",
   "execution_count": 55,
   "metadata": {},
   "outputs": [
    {
     "data": {
      "text/plain": [
       "GridSearchCV(cv=5, error_score='raise',\n",
       "       estimator=GradientBoostingRegressor(alpha=0.9, criterion='friedman_mse', init=None,\n",
       "             learning_rate=0.15, loss='ls', max_depth=3,\n",
       "             max_features='sqrt', max_leaf_nodes=None,\n",
       "             min_impurity_decrease=0.0, min_impurity_split=None,\n",
       "             min_samples_leaf=1, min_samples_split=2,\n",
       "             min_weight_fraction_leaf=0.0, n_estimators=160,\n",
       "             presort='auto', random_state=10, subsample=0.8, verbose=0,\n",
       "             warm_start=False),\n",
       "       fit_params={}, iid=False, n_jobs=4,\n",
       "       param_grid={'max_depth': [5, 7, 9, 11, 13, 15], 'min_samples_split': [900, 950, 1000, 1050, 1100, 1150, 1200]},\n",
       "       pre_dispatch='2*n_jobs', refit=True, scoring=None, verbose=0)"
      ]
     },
     "execution_count": 55,
     "metadata": {},
     "output_type": "execute_result"
    }
   ],
   "source": [
    "param_test2 = {'max_depth':list(range(5,16,2)), 'min_samples_split':list(range(900,1201,50))}\n",
    "gsearch2 = GridSearchCV(estimator = \n",
    "                        GradientBoostingRegressor(learning_rate=0.15, n_estimators=160,\n",
    "                                                  max_features='sqrt', subsample=0.8, random_state=10), \n",
    "                        param_grid = param_test2, n_jobs=4,iid=False, cv=5)\n",
    "gsearch2.fit(train[predictors],train[target])"
   ]
  },
  {
   "cell_type": "code",
   "execution_count": 56,
   "metadata": {},
   "outputs": [
    {
     "data": {
      "text/plain": [
       "([mean: 0.11481, std: 0.01783, params: {'max_depth': 5, 'min_samples_split': 900},\n",
       "  mean: 0.11434, std: 0.01994, params: {'max_depth': 5, 'min_samples_split': 950},\n",
       "  mean: 0.11691, std: 0.01443, params: {'max_depth': 5, 'min_samples_split': 1000},\n",
       "  mean: 0.11427, std: 0.01994, params: {'max_depth': 5, 'min_samples_split': 1050},\n",
       "  mean: 0.11479, std: 0.01828, params: {'max_depth': 5, 'min_samples_split': 1100},\n",
       "  mean: 0.11849, std: 0.01669, params: {'max_depth': 5, 'min_samples_split': 1150},\n",
       "  mean: 0.11287, std: 0.01848, params: {'max_depth': 5, 'min_samples_split': 1200},\n",
       "  mean: 0.11734, std: 0.01983, params: {'max_depth': 7, 'min_samples_split': 900},\n",
       "  mean: 0.11868, std: 0.02087, params: {'max_depth': 7, 'min_samples_split': 950},\n",
       "  mean: 0.11861, std: 0.01814, params: {'max_depth': 7, 'min_samples_split': 1000},\n",
       "  mean: 0.11996, std: 0.01909, params: {'max_depth': 7, 'min_samples_split': 1050},\n",
       "  mean: 0.11953, std: 0.01781, params: {'max_depth': 7, 'min_samples_split': 1100},\n",
       "  mean: 0.11912, std: 0.01566, params: {'max_depth': 7, 'min_samples_split': 1150},\n",
       "  mean: 0.11904, std: 0.01843, params: {'max_depth': 7, 'min_samples_split': 1200},\n",
       "  mean: 0.12094, std: 0.02460, params: {'max_depth': 9, 'min_samples_split': 900},\n",
       "  mean: 0.11778, std: 0.02465, params: {'max_depth': 9, 'min_samples_split': 950},\n",
       "  mean: 0.12121, std: 0.02371, params: {'max_depth': 9, 'min_samples_split': 1000},\n",
       "  mean: 0.11887, std: 0.02499, params: {'max_depth': 9, 'min_samples_split': 1050},\n",
       "  mean: 0.12208, std: 0.02557, params: {'max_depth': 9, 'min_samples_split': 1100},\n",
       "  mean: 0.12155, std: 0.02295, params: {'max_depth': 9, 'min_samples_split': 1150},\n",
       "  mean: 0.11777, std: 0.01646, params: {'max_depth': 9, 'min_samples_split': 1200},\n",
       "  mean: 0.11297, std: 0.02587, params: {'max_depth': 11, 'min_samples_split': 900},\n",
       "  mean: 0.11401, std: 0.02267, params: {'max_depth': 11, 'min_samples_split': 950},\n",
       "  mean: 0.11852, std: 0.02483, params: {'max_depth': 11, 'min_samples_split': 1000},\n",
       "  mean: 0.11588, std: 0.02970, params: {'max_depth': 11, 'min_samples_split': 1050},\n",
       "  mean: 0.11065, std: 0.02896, params: {'max_depth': 11, 'min_samples_split': 1100},\n",
       "  mean: 0.11477, std: 0.02786, params: {'max_depth': 11, 'min_samples_split': 1150},\n",
       "  mean: 0.11418, std: 0.02696, params: {'max_depth': 11, 'min_samples_split': 1200},\n",
       "  mean: 0.11074, std: 0.02994, params: {'max_depth': 13, 'min_samples_split': 900},\n",
       "  mean: 0.10464, std: 0.03337, params: {'max_depth': 13, 'min_samples_split': 950},\n",
       "  mean: 0.11916, std: 0.02158, params: {'max_depth': 13, 'min_samples_split': 1000},\n",
       "  mean: 0.12150, std: 0.03166, params: {'max_depth': 13, 'min_samples_split': 1050},\n",
       "  mean: 0.11674, std: 0.02157, params: {'max_depth': 13, 'min_samples_split': 1100},\n",
       "  mean: 0.11219, std: 0.03312, params: {'max_depth': 13, 'min_samples_split': 1150},\n",
       "  mean: 0.11238, std: 0.03552, params: {'max_depth': 13, 'min_samples_split': 1200},\n",
       "  mean: 0.10747, std: 0.04022, params: {'max_depth': 15, 'min_samples_split': 900},\n",
       "  mean: 0.11284, std: 0.03898, params: {'max_depth': 15, 'min_samples_split': 950},\n",
       "  mean: 0.11099, std: 0.03263, params: {'max_depth': 15, 'min_samples_split': 1000},\n",
       "  mean: 0.11323, std: 0.03701, params: {'max_depth': 15, 'min_samples_split': 1050},\n",
       "  mean: 0.11071, std: 0.02902, params: {'max_depth': 15, 'min_samples_split': 1100},\n",
       "  mean: 0.11706, std: 0.02518, params: {'max_depth': 15, 'min_samples_split': 1150},\n",
       "  mean: 0.11447, std: 0.03073, params: {'max_depth': 15, 'min_samples_split': 1200}],\n",
       " {'max_depth': 9, 'min_samples_split': 1100},\n",
       " 0.12207895466622525)"
      ]
     },
     "execution_count": 56,
     "metadata": {},
     "output_type": "execute_result"
    }
   ],
   "source": [
    "gsearch2.grid_scores_, gsearch2.best_params_, gsearch2.best_score_"
   ]
  },
  {
   "cell_type": "markdown",
   "metadata": {},
   "source": [
    "## Min_sample_spilt and min_sample_leaf\n"
   ]
  },
  {
   "cell_type": "code",
   "execution_count": 65,
   "metadata": {},
   "outputs": [
    {
     "data": {
      "text/plain": [
       "GridSearchCV(cv=5, error_score='raise',\n",
       "       estimator=GradientBoostingRegressor(alpha=0.9, criterion='friedman_mse', init=None,\n",
       "             learning_rate=0.15, loss='ls', max_depth=9,\n",
       "             max_features='sqrt', max_leaf_nodes=None,\n",
       "             min_impurity_decrease=0.0, min_impurity_split=None,\n",
       "             min_samples_leaf=1, min_samples_split=2,\n",
       "             min_weight_fraction_leaf=0.0, n_estimators=160,\n",
       "             presort='auto', random_state=10, subsample=0.8, verbose=0,\n",
       "             warm_start=False),\n",
       "       fit_params={}, iid=False, n_jobs=4,\n",
       "       param_grid={'min_samples_split': [900, 950, 1000, 1050, 1100, 1150, 1200], 'min_samples_leaf': [30, 35, 40, 45, 50, 55, 60, 65, 70, 75, 80]},\n",
       "       pre_dispatch='2*n_jobs', refit=True, scoring=None, verbose=0)"
      ]
     },
     "execution_count": 65,
     "metadata": {},
     "output_type": "execute_result"
    }
   ],
   "source": [
    "param_test3 = {'min_samples_split':list(range(900,1201,50)), 'min_samples_leaf': list(range(30,81,5))}\n",
    "gsearch3 = GridSearchCV(estimator = \n",
    "                        GradientBoostingRegressor(learning_rate=0.15, n_estimators=160, max_depth = 9,\n",
    "                                                  max_features='sqrt', subsample=0.8, random_state=10), \n",
    "                        param_grid = param_test3, n_jobs=4,iid=False, cv=5)\n",
    "gsearch3.fit(train[predictors],train[target])"
   ]
  },
  {
   "cell_type": "code",
   "execution_count": 66,
   "metadata": {},
   "outputs": [
    {
     "data": {
      "text/plain": [
       "([mean: 0.12172, std: 0.02010, params: {'min_samples_leaf': 30, 'min_samples_split': 900},\n",
       "  mean: 0.11791, std: 0.01867, params: {'min_samples_leaf': 30, 'min_samples_split': 950},\n",
       "  mean: 0.12140, std: 0.01698, params: {'min_samples_leaf': 30, 'min_samples_split': 1000},\n",
       "  mean: 0.12309, std: 0.01611, params: {'min_samples_leaf': 30, 'min_samples_split': 1050},\n",
       "  mean: 0.12032, std: 0.01705, params: {'min_samples_leaf': 30, 'min_samples_split': 1100},\n",
       "  mean: 0.12461, std: 0.01873, params: {'min_samples_leaf': 30, 'min_samples_split': 1150},\n",
       "  mean: 0.12086, std: 0.01573, params: {'min_samples_leaf': 30, 'min_samples_split': 1200},\n",
       "  mean: 0.12011, std: 0.01667, params: {'min_samples_leaf': 35, 'min_samples_split': 900},\n",
       "  mean: 0.11906, std: 0.01768, params: {'min_samples_leaf': 35, 'min_samples_split': 950},\n",
       "  mean: 0.11809, std: 0.02042, params: {'min_samples_leaf': 35, 'min_samples_split': 1000},\n",
       "  mean: 0.12234, std: 0.01551, params: {'min_samples_leaf': 35, 'min_samples_split': 1050},\n",
       "  mean: 0.11923, std: 0.01633, params: {'min_samples_leaf': 35, 'min_samples_split': 1100},\n",
       "  mean: 0.12225, std: 0.01789, params: {'min_samples_leaf': 35, 'min_samples_split': 1150},\n",
       "  mean: 0.11865, std: 0.01523, params: {'min_samples_leaf': 35, 'min_samples_split': 1200},\n",
       "  mean: 0.11952, std: 0.01683, params: {'min_samples_leaf': 40, 'min_samples_split': 900},\n",
       "  mean: 0.11727, std: 0.01803, params: {'min_samples_leaf': 40, 'min_samples_split': 950},\n",
       "  mean: 0.12031, std: 0.01948, params: {'min_samples_leaf': 40, 'min_samples_split': 1000},\n",
       "  mean: 0.12015, std: 0.01955, params: {'min_samples_leaf': 40, 'min_samples_split': 1050},\n",
       "  mean: 0.11692, std: 0.01656, params: {'min_samples_leaf': 40, 'min_samples_split': 1100},\n",
       "  mean: 0.11947, std: 0.01748, params: {'min_samples_leaf': 40, 'min_samples_split': 1150},\n",
       "  mean: 0.12060, std: 0.01781, params: {'min_samples_leaf': 40, 'min_samples_split': 1200},\n",
       "  mean: 0.11898, std: 0.01897, params: {'min_samples_leaf': 45, 'min_samples_split': 900},\n",
       "  mean: 0.12081, std: 0.01757, params: {'min_samples_leaf': 45, 'min_samples_split': 950},\n",
       "  mean: 0.12032, std: 0.01667, params: {'min_samples_leaf': 45, 'min_samples_split': 1000},\n",
       "  mean: 0.11752, std: 0.01700, params: {'min_samples_leaf': 45, 'min_samples_split': 1050},\n",
       "  mean: 0.12154, std: 0.01850, params: {'min_samples_leaf': 45, 'min_samples_split': 1100},\n",
       "  mean: 0.12008, std: 0.01680, params: {'min_samples_leaf': 45, 'min_samples_split': 1150},\n",
       "  mean: 0.11965, std: 0.01849, params: {'min_samples_leaf': 45, 'min_samples_split': 1200},\n",
       "  mean: 0.12131, std: 0.01977, params: {'min_samples_leaf': 50, 'min_samples_split': 900},\n",
       "  mean: 0.12054, std: 0.01467, params: {'min_samples_leaf': 50, 'min_samples_split': 950},\n",
       "  mean: 0.12174, std: 0.01481, params: {'min_samples_leaf': 50, 'min_samples_split': 1000},\n",
       "  mean: 0.11797, std: 0.01874, params: {'min_samples_leaf': 50, 'min_samples_split': 1050},\n",
       "  mean: 0.12393, std: 0.01514, params: {'min_samples_leaf': 50, 'min_samples_split': 1100},\n",
       "  mean: 0.11961, std: 0.01690, params: {'min_samples_leaf': 50, 'min_samples_split': 1150},\n",
       "  mean: 0.12227, std: 0.01681, params: {'min_samples_leaf': 50, 'min_samples_split': 1200},\n",
       "  mean: 0.11700, std: 0.02084, params: {'min_samples_leaf': 55, 'min_samples_split': 900},\n",
       "  mean: 0.12253, std: 0.01513, params: {'min_samples_leaf': 55, 'min_samples_split': 950},\n",
       "  mean: 0.11929, std: 0.01828, params: {'min_samples_leaf': 55, 'min_samples_split': 1000},\n",
       "  mean: 0.12082, std: 0.01978, params: {'min_samples_leaf': 55, 'min_samples_split': 1050},\n",
       "  mean: 0.11969, std: 0.01911, params: {'min_samples_leaf': 55, 'min_samples_split': 1100},\n",
       "  mean: 0.12042, std: 0.01700, params: {'min_samples_leaf': 55, 'min_samples_split': 1150},\n",
       "  mean: 0.11851, std: 0.01768, params: {'min_samples_leaf': 55, 'min_samples_split': 1200},\n",
       "  mean: 0.11757, std: 0.01876, params: {'min_samples_leaf': 60, 'min_samples_split': 900},\n",
       "  mean: 0.12019, std: 0.01833, params: {'min_samples_leaf': 60, 'min_samples_split': 950},\n",
       "  mean: 0.11883, std: 0.01850, params: {'min_samples_leaf': 60, 'min_samples_split': 1000},\n",
       "  mean: 0.11705, std: 0.01979, params: {'min_samples_leaf': 60, 'min_samples_split': 1050},\n",
       "  mean: 0.12030, std: 0.01744, params: {'min_samples_leaf': 60, 'min_samples_split': 1100},\n",
       "  mean: 0.12015, std: 0.01940, params: {'min_samples_leaf': 60, 'min_samples_split': 1150},\n",
       "  mean: 0.12052, std: 0.01967, params: {'min_samples_leaf': 60, 'min_samples_split': 1200},\n",
       "  mean: 0.11881, std: 0.01727, params: {'min_samples_leaf': 65, 'min_samples_split': 900},\n",
       "  mean: 0.12071, std: 0.01673, params: {'min_samples_leaf': 65, 'min_samples_split': 950},\n",
       "  mean: 0.11907, std: 0.01626, params: {'min_samples_leaf': 65, 'min_samples_split': 1000},\n",
       "  mean: 0.11803, std: 0.01717, params: {'min_samples_leaf': 65, 'min_samples_split': 1050},\n",
       "  mean: 0.11859, std: 0.01685, params: {'min_samples_leaf': 65, 'min_samples_split': 1100},\n",
       "  mean: 0.11860, std: 0.01517, params: {'min_samples_leaf': 65, 'min_samples_split': 1150},\n",
       "  mean: 0.12032, std: 0.01962, params: {'min_samples_leaf': 65, 'min_samples_split': 1200},\n",
       "  mean: 0.11947, std: 0.01735, params: {'min_samples_leaf': 70, 'min_samples_split': 900},\n",
       "  mean: 0.12050, std: 0.01620, params: {'min_samples_leaf': 70, 'min_samples_split': 950},\n",
       "  mean: 0.12271, std: 0.01547, params: {'min_samples_leaf': 70, 'min_samples_split': 1000},\n",
       "  mean: 0.11772, std: 0.01750, params: {'min_samples_leaf': 70, 'min_samples_split': 1050},\n",
       "  mean: 0.11851, std: 0.01828, params: {'min_samples_leaf': 70, 'min_samples_split': 1100},\n",
       "  mean: 0.12072, std: 0.01721, params: {'min_samples_leaf': 70, 'min_samples_split': 1150},\n",
       "  mean: 0.12165, std: 0.01523, params: {'min_samples_leaf': 70, 'min_samples_split': 1200},\n",
       "  mean: 0.11936, std: 0.01835, params: {'min_samples_leaf': 75, 'min_samples_split': 900},\n",
       "  mean: 0.12143, std: 0.01564, params: {'min_samples_leaf': 75, 'min_samples_split': 950},\n",
       "  mean: 0.11893, std: 0.01779, params: {'min_samples_leaf': 75, 'min_samples_split': 1000},\n",
       "  mean: 0.11786, std: 0.01818, params: {'min_samples_leaf': 75, 'min_samples_split': 1050},\n",
       "  mean: 0.12012, std: 0.01547, params: {'min_samples_leaf': 75, 'min_samples_split': 1100},\n",
       "  mean: 0.11791, std: 0.01600, params: {'min_samples_leaf': 75, 'min_samples_split': 1150},\n",
       "  mean: 0.11765, std: 0.01709, params: {'min_samples_leaf': 75, 'min_samples_split': 1200},\n",
       "  mean: 0.11822, std: 0.01721, params: {'min_samples_leaf': 80, 'min_samples_split': 900},\n",
       "  mean: 0.11824, std: 0.01538, params: {'min_samples_leaf': 80, 'min_samples_split': 950},\n",
       "  mean: 0.11924, std: 0.02052, params: {'min_samples_leaf': 80, 'min_samples_split': 1000},\n",
       "  mean: 0.11938, std: 0.01388, params: {'min_samples_leaf': 80, 'min_samples_split': 1050},\n",
       "  mean: 0.12101, std: 0.01537, params: {'min_samples_leaf': 80, 'min_samples_split': 1100},\n",
       "  mean: 0.12232, std: 0.01614, params: {'min_samples_leaf': 80, 'min_samples_split': 1150},\n",
       "  mean: 0.11730, std: 0.01778, params: {'min_samples_leaf': 80, 'min_samples_split': 1200}],\n",
       " {'min_samples_leaf': 30, 'min_samples_split': 1150},\n",
       " 0.12460726492580365)"
      ]
     },
     "execution_count": 66,
     "metadata": {},
     "output_type": "execute_result"
    }
   ],
   "source": [
    "gsearch3.grid_scores_, gsearch3.best_params_, gsearch3.best_score_"
   ]
  },
  {
   "cell_type": "markdown",
   "metadata": {},
   "source": [
    "## max features\n",
    "The square root of features is usually a good starting point.  square root of 400~\n",
    "Trying values from 10 to 29 in steps of 2"
   ]
  },
  {
   "cell_type": "code",
   "execution_count": 21,
   "metadata": {},
   "outputs": [
    {
     "data": {
      "text/plain": [
       "GridSearchCV(cv=5, error_score='raise',\n",
       "       estimator=GradientBoostingRegressor(alpha=0.9, criterion='friedman_mse', init=None,\n",
       "             learning_rate=0.15, loss='ls', max_depth=9, max_features=None,\n",
       "             max_leaf_nodes=None, min_impurity_decrease=0.0,\n",
       "             min_impurity_split=None, min_samples_leaf=30,\n",
       "             min_samples_split=1150, min_weight_fraction_leaf=0.0,\n",
       "             n_estimators=160, presort='auto', random_state=10,\n",
       "             subsample=0.8, verbose=0, warm_start=False),\n",
       "       fit_params={}, iid=False, n_jobs=4,\n",
       "       param_grid={'max_features': [20, 22, 24, 26, 28, 30, 32, 34, 36, 38]},\n",
       "       pre_dispatch='2*n_jobs', refit=True, scoring=None, verbose=0)"
      ]
     },
     "execution_count": 21,
     "metadata": {},
     "output_type": "execute_result"
    }
   ],
   "source": [
    "param_test4 = {'max_features':list(range(20,40,2))}\n",
    "gsearch4 = GridSearchCV(estimator = \n",
    "                        GradientBoostingRegressor(learning_rate=0.15, n_estimators=160,max_depth=9, \n",
    "                                                  min_samples_split=1150, min_samples_leaf=30, subsample=0.8, random_state=10),\n",
    "                        param_grid = param_test4, n_jobs=4,iid=False, cv=5)\n",
    "gsearch4.fit(train[predictors],train[target])"
   ]
  },
  {
   "cell_type": "code",
   "execution_count": 22,
   "metadata": {},
   "outputs": [
    {
     "data": {
      "text/plain": [
       "([mean: 0.12461, std: 0.01873, params: {'max_features': 20},\n",
       "  mean: 0.11996, std: 0.01463, params: {'max_features': 22},\n",
       "  mean: 0.11958, std: 0.01800, params: {'max_features': 24},\n",
       "  mean: 0.12532, std: 0.02477, params: {'max_features': 26},\n",
       "  mean: 0.12244, std: 0.02437, params: {'max_features': 28},\n",
       "  mean: 0.12120, std: 0.02200, params: {'max_features': 30},\n",
       "  mean: 0.12420, std: 0.02340, params: {'max_features': 32},\n",
       "  mean: 0.12485, std: 0.02437, params: {'max_features': 34},\n",
       "  mean: 0.12269, std: 0.02314, params: {'max_features': 36},\n",
       "  mean: 0.12226, std: 0.02276, params: {'max_features': 38}],\n",
       " {'max_features': 26},\n",
       " 0.12531554141685466)"
      ]
     },
     "execution_count": 22,
     "metadata": {},
     "output_type": "execute_result"
    }
   ],
   "source": [
    "gsearch4.grid_scores_, gsearch4.best_params_, gsearch4.best_score_"
   ]
  },
  {
   "cell_type": "markdown",
   "metadata": {},
   "source": [
    "## subsample"
   ]
  },
  {
   "cell_type": "code",
   "execution_count": 23,
   "metadata": {},
   "outputs": [
    {
     "data": {
      "text/plain": [
       "GridSearchCV(cv=5, error_score='raise',\n",
       "       estimator=GradientBoostingRegressor(alpha=0.9, criterion='friedman_mse', init=None,\n",
       "             learning_rate=0.1, loss='ls', max_depth=13, max_features=34,\n",
       "             max_leaf_nodes=None, min_impurity_decrease=0.0,\n",
       "             min_impurity_split=None, min_samples_leaf=10,\n",
       "             min_samples_split=1200, min_weight_fraction_leaf=0.0,\n",
       "             n_estimators=160, presort='auto', random_state=10,\n",
       "             subsample=1.0, verbose=0, warm_start=False),\n",
       "       fit_params={}, iid=False, n_jobs=4,\n",
       "       param_grid={'subsample': [0.6, 0.7, 0.8, 0.85, 0.9]},\n",
       "       pre_dispatch='2*n_jobs', refit=True, scoring=None, verbose=0)"
      ]
     },
     "execution_count": 23,
     "metadata": {},
     "output_type": "execute_result"
    }
   ],
   "source": [
    "param_test5 = {'subsample':[0.6,0.7,0.8,0.85,0.9]}\n",
    "gsearch5 = GridSearchCV(estimator = \n",
    "                        GradientBoostingRegressor(learning_rate=0.1, n_estimators=160,max_depth=13, \n",
    "                                                  min_samples_split=1200, min_samples_leaf=10, max_features = 34, random_state=10),\n",
    "                        param_grid = param_test5, n_jobs=4,iid=False, cv=5)\n",
    "gsearch5.fit(train[predictors],train[target])"
   ]
  },
  {
   "cell_type": "code",
   "execution_count": 24,
   "metadata": {},
   "outputs": [
    {
     "data": {
      "text/plain": [
       "([mean: 0.12638, std: 0.02274, params: {'subsample': 0.6},\n",
       "  mean: 0.13275, std: 0.02291, params: {'subsample': 0.7},\n",
       "  mean: 0.13396, std: 0.02734, params: {'subsample': 0.8},\n",
       "  mean: 0.13656, std: 0.02697, params: {'subsample': 0.85},\n",
       "  mean: 0.13300, std: 0.02656, params: {'subsample': 0.9}],\n",
       " {'subsample': 0.85},\n",
       " 0.13655598159780774)"
      ]
     },
     "execution_count": 24,
     "metadata": {},
     "output_type": "execute_result"
    }
   ],
   "source": [
    "gsearch5.grid_scores_, gsearch5.best_params_, gsearch5.best_score_"
   ]
  },
  {
   "cell_type": "markdown",
   "metadata": {},
   "source": [
    "## Evaluation of new model on test set"
   ]
  },
  {
   "cell_type": "code",
   "execution_count": 88,
   "metadata": {},
   "outputs": [
    {
     "name": "stdout",
     "output_type": "stream",
     "text": [
      "Time:  25.322267860989086\n"
     ]
    }
   ],
   "source": [
    "start = timeit.default_timer()\n",
    "predictors = [x for x in train.columns if x not in [target, ID]]\n",
    "gbm_new = GradientBoostingRegressor(learning_rate=0.15, max_depth=9,n_estimators=160, min_samples_split=1150, \n",
    "                                    min_samples_leaf=30, max_features = 34, subsample =0.85, random_state=10)\n",
    "fit_new= gbm_new.fit(train[predictors], train[target])\n",
    "stop = timeit.default_timer()\n",
    "print('Time: ', stop - start)"
   ]
  },
  {
   "cell_type": "code",
   "execution_count": 82,
   "metadata": {},
   "outputs": [
    {
     "name": "stdout",
     "output_type": "stream",
     "text": [
      "MSE of the GBM on test set: 6.93137\n"
     ]
    }
   ],
   "source": [
    "train_predictions = fit_new.predict(train[predictors])\n",
    "MSE_train = np.sqrt(mean_squared_error(train[target], train_predictions))\n",
    "print('MSE of the GBM on test set: {:.5f}'.format(MSE_train))"
   ]
  },
  {
   "cell_type": "code",
   "execution_count": 83,
   "metadata": {},
   "outputs": [
    {
     "name": "stdout",
     "output_type": "stream",
     "text": [
      "MSE of the GBM on test set: 9.54843\n"
     ]
    }
   ],
   "source": [
    "test_predictions = fit_new.predict(test[predictors])\n",
    "MSE_test = np.sqrt(mean_squared_error(test[target], test_predictions))\n",
    "print('MSE of the GBM on test set: {:.5f}'.format(MSE_test))"
   ]
  },
  {
   "cell_type": "code",
   "execution_count": 37,
   "metadata": {},
   "outputs": [
    {
     "data": {
      "text/plain": [
       "Text(0,0.5,'Feature Importance Score')"
      ]
     },
     "execution_count": 37,
     "metadata": {},
     "output_type": "execute_result"
    },
    {
     "data": {
      "image/png": "[encoded data removed]",
      "text/plain": [
       "<Figure size 432x288 with 1 Axes>"
      ]
     },
     "metadata": {
      "needs_background": "light"
     },
     "output_type": "display_data"
    }
   ],
   "source": [
    "feat_imp = pd.Series(fit_new.feature_importances_, predictors).sort_values(ascending=False)\n",
    "feat_imp[:20].plot(kind='bar', title='Feature Importances')\n",
    "plt.ylabel('Feature Importance Score')"
   ]
  },
  {
   "cell_type": "code",
   "execution_count": null,
   "metadata": {
    "collapsed": true
   },
   "outputs": [],
   "source": []
  }
 ],
 "metadata": {
  "anaconda-cloud": {},
  "kernelspec": {
   "display_name": "Python 3",
   "language": "python",
   "name": "python3"
  },
  "language_info": {
   "codemirror_mode": {
    "name": "ipython",
    "version": 3
   },
   "file_extension": ".py",
   "mimetype": "text/x-python",
   "name": "python",
   "nbconvert_exporter": "python",
   "pygments_lexer": "ipython3",
   "version": "3.6.3"
  }
 },
 "nbformat": 4,
 "nbformat_minor": 2
}
